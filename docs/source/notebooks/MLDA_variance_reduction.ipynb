{
 "cells": [
  {
   "cell_type": "markdown",
   "metadata": {},
   "source": [
    "# Variance reduction in MLDA"
   ]
  },
  {
   "cell_type": "markdown",
   "metadata": {},
   "source": [
    "MLDA is based on the idea of running multiple chains which sample from approximations of the true posterior (where the approximation normally become coarser when going from the top level to the bottom level). Due to this characteristic, MLDA draws MCMC samples from all those levels. These samples, apart from improving the mixing of the top-level chain can serve another purpose; we can use them to apply a variance reduction technique when estimating a quantity of interest from the drawn samples.\n",
    "\n",
    "#### Typical quantity of interest estimation in MCMC\n",
    "Specifically, here we are interested in cases where we have a a forward model $F$ which is a function of an unknown vector of random variables $\\theta$, i.e. $F = F(\\theta)$. $F$ is a model of some physical process or phenomenon and $\\theta$ is usually a set of unknown parameters in the model. We want to estimate a quantity of interest $Q$ which depends on the forward model $F$, i.e. $Q = Q(F(\\theta))$. In order to do that, we draw samples from the posterior of $P(\\theta | D)$, where $D$ are our data, and we use the samples to construct an estimator $E_P[Q] = {1\\over N} \\Sigma_{n}Q(F(\\theta_n))$ where $\\theta_n$ is the $n-th$ sample drawn from the posterior $P$ using MCMC.\n",
    "\n",
    "In the context of groundwater flow modelling (which is used in this notebook), the quantity of interest $Q$ could, for example, be the value of the pressure or the Darcy flux at or around a given point in the computational domain, or the outflow over parts of the boundary.\n",
    "\n",
    "#### Quantity of interest estimation using variance reduction in MLDA\n",
    "In usual MCMC algorithm we would sample from the posterior and use the samples to get the estimate above. In MLDA, we have the extra advantage that we do not only draw samples from the correct/fine posterior $P$ but we also draw samples from approximation of it. We can use those samples to reduce the variance of the estimator of $Q$ (and thus require fewer samples to achieve the same variance). \n",
    "\n",
    "The technique we use is similar to the idea of a telescopic sum. Instead of estimating $Q$ directly, we estimate differences of $Q$ estimates between levels and add those differences (i.e. we estimate the correction with respect to the next lower level). \n",
    "\n",
    "Specifically, we have a set of approximate forward models $F_l$ and posteriors $P_l, l \\in \\{0,1,...,L-1\\}$, where $L$ is the number of levels in MLDA, $F_{L-1} = F$ and $P_{L-1} = P$. MLDA in level $l$ produces the samples $\\theta_{1:N_l}^l$ from posterior $P_l$, where $N_l$ is the number of samples at that level (each level generates a different number of samples, with $N_l$ strictly decreasing with $l$). This also results in the quantities of interest $Q_l = Q(F_l(\\theta))$ for each level $l$. We use the following equation to estimate the quanity of interest:\n",
    "$E_{VR}[Q] = E_{P_0}[Q_0] + \\Sigma_{l=1}^{L-1} (E_{P_l}[Q_l] - E_{P_{l-1}}[Q_{l-1}])$. \n",
    "\n",
    "The first term in the right hand side can be estimated using the samples from level 0. For the second term in the right hand side which contains all the differences, we estimate using the following process: In level $l$, and for each sample $\\theta_n^l$ in that level where $n \\in {1,...,N_l}$, we take the samples $\\theta_{s:(s+K)}^{l-1}$ from level $l-1$, which is the block of $K$ samples generated in level $l$ to propose a sample for level $l$, where $s$ is the starting sample. In other words $K$ is the subsampling rate at level $l$. We randomly pick one of those $K$ samples, say with index $k$. We calculate the following quantity: $Y_n^l = Q_l(F_l(\\theta_n^l)) - Q_{l-1}(F_{l-1}(\\theta_k^{l-1}))$. We do the same thing for all $N_l$ samples in level $l$ and finally use them to calculate $E_{P_l}[Q_l] - E_{P_{l-1}}[Q_{l-1}] = {1 \\over N_l} \\Sigma Y_n^l$. We do the same to estimate the remaining differences and add them all together to get $E_VR[Q]$.\n",
    "\n",
    "The latter estimate is shown to have asymptotically lower variance than $E_P[Q]$ in [1].\n",
    "\n",
    "#### Using variance reductioon in PyMC3\n",
    "The code in this notebook demonstrates how the user can employ the variance reduction technique within the PyMC3 implementation of MLDA. We run two samplers, one with VR and one without and calculate the resulting variances in the estimates.\n",
    "\n",
    "In order to use variance reduction, the user needs to pass the argument `variance_reduction=True` when instantiating the MLDA stepper. Also, they need to do two things when defining the PyMC3 model: \n",
    "- Include a `pm.Data()` variable with the name `Q` in the model description as shown in the code.\n",
    "- Use a theano Op to describe the forward model (or the combination of a forward model and a likelihood). This Op should have a `perform()` method which (in addition to all the other calculations), calculates the quantity of interest and stores it to the variable `Q` of the PyMC3 model, using the `set_value()` function. An example is shown below.\n",
    "\n",
    "By doing the above, the user provides MLDA with the quantity of interest in each MCMC step. MLDA then internally stores and manages the values and returns all the terms necessary to calculate $E_{VR}[Q]$ (i.e. all $Q_0$ values and all $Y_n^l$ differences/corrections) within the stats of the generated trace. The user can extract them using the `get_sampler_stats()` function of the trace object, as shown at the end of the notebook.\n",
    "\n",
    "\n",
    "### Dependencies\n",
    "The code has been developed and tested with Python 3.6. You will need to have pymc3 installed and also [FEniCS](https://fenicsproject.org/) for your system. FEniCS is a popular, open-source, [well documented](https://fenicsproject.org/documentation/), high-performance computing framework for solving Partial Differential Equations. FEniCS can be [installed](https://fenicsproject.org/download/) either through their prebuilt Docker images, from their Ubuntu PPA, or from Anaconda. \n",
    "  \n",
    "\n",
    "### References\n",
    "[1] Dodwell, Tim & Ketelsen, Chris & Scheichl, Robert & Teckentrup, Aretha. (2019). Multilevel Markov Chain Monte Carlo. SIAM Review. 61. 509-545. https://doi.org/10.1137/19M126966X\n"
   ]
  },
  {
   "cell_type": "markdown",
   "metadata": {},
   "source": [
    "### Import modules"
   ]
  },
  {
   "cell_type": "code",
   "execution_count": 1,
   "metadata": {},
   "outputs": [],
   "source": [
    "# Import groundwater flow model utils\n",
    "import sys\n",
    "sys.path.insert(1, 'mlda/')"
   ]
  },
  {
   "cell_type": "code",
   "execution_count": 2,
   "metadata": {
    "scrolled": true
   },
   "outputs": [],
   "source": [
    "import os\n",
    "import numpy as np\n",
    "import time\n",
    "import pymc3 as pm\n",
    "import theano.tensor as tt\n",
    "from Model import Model, model_wrapper, project_eigenpairs\n",
    "from itertools import product\n",
    "import matplotlib.pyplot as plt\n",
    "os.environ['OPENBLAS_NUM_THREADS'] = '1'  # Set environmental variable\n",
    "%matplotlib inline"
   ]
  },
  {
   "cell_type": "markdown",
   "metadata": {},
   "source": [
    "### Set parameters"
   ]
  },
  {
   "cell_type": "code",
   "execution_count": 3,
   "metadata": {},
   "outputs": [],
   "source": [
    "# Set the resolution of the multi-level models (from coarsest to finest)\n",
    "# This is a list of different model resolutions. Each\n",
    "# resolution added to the list will add one level to the multi-level\n",
    "# inference. Each element is a tuple (x,y) where x, y are the number of \n",
    "# points in each dimension. For example, here we set resolutions = \n",
    "# [(30, 30), (120, 120)] which creates a coarse, cheap 30x30 model and \n",
    "# a fine, expensive 120x120 model.\n",
    "resolutions = [(20, 20), (30, 30), (40, 40)]\n",
    "\n",
    "# Set random field parameters\n",
    "field_mean = 0\n",
    "field_stdev = 1\n",
    "lamb_cov = 0.1\n",
    "\n",
    "# Set the number of unknown parameters (i.e. dimension of theta in posterior)\n",
    "nparam = 2\n",
    "\n",
    "# Number of draws from the distribution\n",
    "ndraws = 2000\n",
    "\n",
    "# Number of burn-in samples\n",
    "nburn = 2000\n",
    "\n",
    "# MLDA and Metropolis tuning parameters\n",
    "tune = True\n",
    "tune_interval = 100\n",
    "discard_tuning = True\n",
    "\n",
    "# Number of independent chains\n",
    "nchains = 1\n",
    "\n",
    "# Subsampling rate for MLDA\n",
    "nsub = 5\n",
    "\n",
    "# variance reduction\n",
    "vr = True\n",
    "\n",
    "# Do blocked/compounds sampling in Metropolis and MLDA\n",
    "# Note: This choice applies only to the coarsest level in MLDA\n",
    "# (where a Metropolis sampler is used), all other levels use block sampling\n",
    "blocked = False\n",
    "\n",
    "# Set the sigma for inference\n",
    "sigma = 0.01\n",
    "\n",
    "# Data generation seed\n",
    "data_seed = 12345\n",
    "\n",
    "# Sampling seed\n",
    "sampling_seed = 12345\n",
    "\n",
    "# Datapoints list\n",
    "points_list = [0.1, 0.3, 0.5, 0.7, 0.9]"
   ]
  },
  {
   "cell_type": "markdown",
   "metadata": {},
   "source": [
    "### Define the quantity of interest\n",
    "First we need to define a function that calculates the quantity of interest $Q$ given the model.\n",
    "This can be any quantity dependent on the unknown variable $\\theta$ or the output of the forward model.\n",
    "In this case, the quantity of interest is the hydraulic head at some fixed point (x, y)=(0.5, 0.45).\n",
    "It needs to run after solving model PDE. The code for the solver is imported from an external file."
   ]
  },
  {
   "cell_type": "code",
   "execution_count": 4,
   "metadata": {},
   "outputs": [],
   "source": [
    "def quantity_of_interest(my_model):\n",
    "    \"\"\"Quantity of interest function\"\"\"\n",
    "    return my_model.solver.h(0.5, 0.45)"
   ]
  },
  {
   "cell_type": "markdown",
   "metadata": {},
   "source": [
    "### Define the forward model\n",
    "In order to use variance reduction, the user needs to define a Theano Op that calculates the forward model \n",
    "(or both the forward model and the likelihood).\n",
    "Also, this Op needs to save the quantity of interest to a model variable with the name Q.\n",
    "Here we use a Theano Op along with the code within ./mlda to construct the forward model."
   ]
  },
  {
   "cell_type": "code",
   "execution_count": 5,
   "metadata": {},
   "outputs": [],
   "source": [
    "class ForwardModel(tt.Op):\n",
    "    \"\"\"\n",
    "    Theano Op that wraps the forward model computation,\n",
    "    necessary to pass \"black-box\" fenics code into pymc3.\n",
    "    Based on the work in:\n",
    "    https://docs.pymc.io/notebooks/blackbox_external_likelihood.html\n",
    "    https://docs.pymc.io/Advanced_usage_of_Theano_in_PyMC3.html\n",
    "    \"\"\"\n",
    "\n",
    "    # Specify what type of object will be passed and returned to the Op when it is\n",
    "    # called. In our case we will be passing it a vector of values (the parameters\n",
    "    # that define our model) and returning a a vector of model outputs\n",
    "    itypes = [tt.dvector]  # expects a vector of parameter values (theta)\n",
    "    otypes = [tt.dvector]  # outputs a vector of model outputs\n",
    "\n",
    "    def __init__(self, my_model, x, pymc3_model):\n",
    "        \"\"\"\n",
    "        Initialise the Op with various things that our forward model function\n",
    "        requires.\n",
    "        Parameters\n",
    "        ----------\n",
    "        my_model:\n",
    "            A Model object (defined in file model.py) that contains the parameters\n",
    "            and functions of our model.\n",
    "        x:\n",
    "            The dependent variable (aka 'x') that our model requires. This is\n",
    "            the datapoints in this example.\n",
    "        \"\"\"\n",
    "        # add inputs as class attributes\n",
    "        self.my_model = my_model\n",
    "        self.x = x\n",
    "        self.pymc3_model = pymc3_model\n",
    "\n",
    "    def perform(self, node, inputs, outputs):\n",
    "        # the method that is used when calling the Op\n",
    "        theta = inputs[0]  # this will contain my variables\n",
    "\n",
    "        # call the forward model function - this solves the model PDE\n",
    "        outputs[0][0] = model_wrapper(self.my_model, theta, self.x)\n",
    "\n",
    "        # call the quantity of interest function after the model has been solved\n",
    "        # with the provided theta\n",
    "        # save the result inside the pymc3 model variable 'Q'\n",
    "        # Note that the result needs to be saved to 'Q' in order to do variance reduction\n",
    "        self.pymc3_model.Q.set_value(quantity_of_interest(self.my_model))"
   ]
  },
  {
   "cell_type": "markdown",
   "metadata": {},
   "source": [
    "### Instantiate Model objects and data"
   ]
  },
  {
   "cell_type": "code",
   "execution_count": 6,
   "metadata": {},
   "outputs": [],
   "source": [
    "# Note this can take several minutes for large resolutions\n",
    "my_models = []\n",
    "for r in resolutions:\n",
    "    my_models.append(Model(r, field_mean, field_stdev, nparam, lamb_cov))\n",
    "\n",
    "# Project eignevactors from fine model to all coarse models\n",
    "for i in range(len(my_models[:-1])):\n",
    "    project_eigenpairs(my_models[-1], my_models[i])\n",
    "\n"
   ]
  },
  {
   "cell_type": "code",
   "execution_count": 7,
   "metadata": {},
   "outputs": [
    {
     "data": {
      "image/png": "[encoded data removed]",
      "text/plain": [
       "<Figure size 1728x648 with 4 Axes>"
      ]
     },
     "metadata": {
      "needs_background": "light"
     },
     "output_type": "display_data"
    }
   ],
   "source": [
    "# Solve finest model as a test and plot transmissivity field and solution\n",
    "np.random.seed(data_seed)\n",
    "my_models[-1].solve()\n",
    "my_models[-1].plot(lognormal=False)\n",
    "\n",
    "# Save true parameters of finest model\n",
    "true_parameters = my_models[-1].random_process.parameters"
   ]
  },
  {
   "cell_type": "code",
   "execution_count": 8,
   "metadata": {},
   "outputs": [
    {
     "name": "stdout",
     "output_type": "stream",
     "text": [
      "True Q: 0.5399475535601521\n"
     ]
    }
   ],
   "source": [
    "# Define the sampling points.\n",
    "x_data = y_data = np.array(points_list)\n",
    "datapoints = np.array(list(product(x_data, y_data)))\n",
    "\n",
    "# Get data from the sampling points and perturb it with some noise.\n",
    "noise = np.random.normal(0, 0.001, len(datapoints))\n",
    "\n",
    "# Generate data from the finest model for use in pymc3 inference - these data are used in all levels\n",
    "data = model_wrapper(my_models[-1], true_parameters, datapoints) + noise\n",
    "\n",
    "print(\"True Q: \" + str(quantity_of_interest(my_models[-1])))\n",
    "\n",
    "# Create covariance matrix of normal error - it is a diagonal matrix\n",
    "s = np.identity(len(data))\n",
    "np.fill_diagonal(s, sigma ** 2)"
   ]
  },
  {
   "cell_type": "markdown",
   "metadata": {},
   "source": [
    "### Instantiate forward model objects"
   ]
  },
  {
   "cell_type": "code",
   "execution_count": 9,
   "metadata": {},
   "outputs": [],
   "source": [
    "# create Theano Ops to wrap FM of all model levels and store them in list\n",
    "mout = []"
   ]
  },
  {
   "cell_type": "markdown",
   "metadata": {},
   "source": [
    "### Construct pymc3 model objects for coarse models\n",
    "Here we create the coarse models for MLDA. \n",
    "We need to include a `pm.Data()` variable `Q` in each one of those models, instantiated at `0.0`. These variables are set during sampling when the Op code under `perform()` runs."
   ]
  },
  {
   "cell_type": "code",
   "execution_count": 10,
   "metadata": {},
   "outputs": [],
   "source": [
    "# Set up models in pymc3 for each level - excluding finest model level\n",
    "coarse_models = []\n",
    "for j in range(len(my_models) - 1):\n",
    "    with pm.Model() as model:\n",
    "        # A variable Q has to be defined if you want to use the variance reduction feature\n",
    "        # Q can be of any dimension - here it a scalar\n",
    "        Q = pm.Data('Q', np.float64(0.0))\n",
    "\n",
    "        # Sigma_e is the covariance of the assumed error 'e' in the model.\n",
    "        # This error is due to measurement noise/bias vs. the real world\n",
    "        Sigma_e = pm.Data('Sigma_e', s)\n",
    "\n",
    "        # uniform priors on unknown parameters\n",
    "        parameters = []\n",
    "        for i in range(nparam):\n",
    "            parameters.append(pm.Uniform('theta_' + str(i), lower=-3., upper=3.))\n",
    "\n",
    "        # convert thetas to a tensor vector\n",
    "        theta = tt.as_tensor_variable(parameters)\n",
    "\n",
    "        # this is a deterministic variable that captures the output of\n",
    "        # the forward model every time it is run\n",
    "        mout.append(ForwardModel(my_models[j], datapoints, model))\n",
    "        output = pm.Potential('output', mout[j](theta))\n",
    "\n",
    "        # The distribution of the error 'e' (assumed error of the forward model)\n",
    "        # This is multi-variate normal.\n",
    "        # This creates the likelihood of the model given the observed data\n",
    "        pm.MvNormal('e', mu=output, cov=Sigma_e, observed=data)\n",
    "\n",
    "    coarse_models.append(model)"
   ]
  },
  {
   "cell_type": "markdown",
   "metadata": {},
   "source": [
    "### Perform inference\n",
    "Here we define the fine (i.e. correct) model and sample from it using MLDA (with and without variance reduction).\n",
    "Note that `Q` is use here too."
   ]
  },
  {
   "cell_type": "code",
   "execution_count": 11,
   "metadata": {
    "scrolled": false
   },
   "outputs": [
    {
     "name": "stderr",
     "output_type": "stream",
     "text": [
      "/Users/gmingas/projects/pymc3-vr/pymc3/step_methods/metropolis.py:1096: UserWarning: The MLDA implementation in PyMC3 is very young. You should be extra critical about its results.\n",
      "  'The MLDA implementation in PyMC3 is very young. '\n",
      "/Users/gmingas/projects/pymc3-vr/pymc3/step_methods/metropolis.py:1096: UserWarning: The MLDA implementation in PyMC3 is very young. You should be extra critical about its results.\n",
      "  'The MLDA implementation in PyMC3 is very young. '\n",
      "Sequential sampling (1 chains in 1 job)\n",
      "MLDA: [theta_1, theta_0]\n"
     ]
    },
    {
     "data": {
      "text/html": [
       "\n",
       "    <div>\n",
       "        <style>\n",
       "            /* Turns off some styling */\n",
       "            progress {\n",
       "                /* gets rid of default border in Firefox and Opera. */\n",
       "                border: none;\n",
       "                /* Needs to be in here for Safari polyfill so background images work as expected. */\n",
       "                background-size: auto;\n",
       "            }\n",
       "            .progress-bar-interrupted, .progress-bar-interrupted::-webkit-progress-bar {\n",
       "                background: #F44336;\n",
       "            }\n",
       "        </style>\n",
       "      <progress value='4000' class='' max='4000' style='width:300px; height:20px; vertical-align: middle;'></progress>\n",
       "      100.00% [4000/4000 07:50<00:00 Sampling chain 0, 0 divergences]\n",
       "    </div>\n",
       "    "
      ],
      "text/plain": [
       "<IPython.core.display.HTML object>"
      ]
     },
     "metadata": {},
     "output_type": "display_data"
    }
   ],
   "source": [
    "# Set up finest model and perform inference with PyMC3, using the MLDA algorithm\n",
    "# and passing the coarse_models list created above.\n",
    "method_names = []\n",
    "traces = []\n",
    "runtimes = []\n",
    "acc = []\n",
    "ess = []\n",
    "ess_n = []\n",
    "performances = []\n",
    "\n",
    "with pm.Model() as fine_model:\n",
    "    # A variable Q has to be defined if you want to use the variance reduction feature\n",
    "    # Q can be of any dimension - here it a scalar\n",
    "    Q = pm.Data('Q', np.float64(0.0))\n",
    "\n",
    "    # Sigma_e is the covariance of the assumed error 'e' in the model.\n",
    "    # This error is due to measurement noise/bias vs. the real world\n",
    "    Sigma_e = pm.Data('Sigma_e', s)\n",
    "\n",
    "    # uniform priors on unknown parameters\n",
    "    parameters = []\n",
    "    for i in range(nparam):\n",
    "        parameters.append(pm.Uniform('theta_' + str(i), lower=-3., upper=3.))\n",
    "\n",
    "    # convert thetas to a tensor vector\n",
    "    theta = tt.as_tensor_variable(parameters)\n",
    "\n",
    "    # this is a deterministic variable that captures the output of\n",
    "    # the fine forward model every time it is run\n",
    "    mout.append(ForwardModel(my_models[-1], datapoints, fine_model))\n",
    "    output = pm.Potential('output', mout[-1](theta))\n",
    "\n",
    "    # The distribution of the error 'e' (assumed error of the forward model)\n",
    "    pm.MvNormal('e', mu=output, cov=Sigma_e, observed=data)\n",
    "\n",
    "    # Initialise two MLDA step method objects, one without variance reduction but with\n",
    "    # store_Q_fine set to True and the other with variance reduction.\n",
    "    # store_Q_fine allows to store the quantities of interest only for the fine chain\n",
    "    # which permits calculating the standard estimate for comparison with VR\n",
    "    step_mlda_without = pm.MLDA(subsampling_rates=nsub, coarse_models=coarse_models,\n",
    "                                tune=tune, tune_interval=tune_interval, base_blocked=blocked,\n",
    "                                store_Q_fine=True)\n",
    "    step_mlda_with = pm.MLDA(subsampling_rates=nsub, coarse_models=coarse_models,\n",
    "                             tune=tune, tune_interval=tune_interval, base_blocked=blocked,\n",
    "                             variance_reduction=vr,\n",
    "                             store_Q_fine=True)\n",
    "\n",
    "    # MLDA with variance reduction\n",
    "    t_start = time.time()\n",
    "    method_names.append(\"MLDA_with_vr\")\n",
    "    traces.append(pm.sample(draws=ndraws, step=step_mlda_with,\n",
    "                            chains=nchains, tune=nburn,\n",
    "                            discard_tuned_samples=discard_tuning,\n",
    "                            random_seed=sampling_seed, cores=1))\n",
    "    runtimes.append(time.time() - t_start)\n",
    "\n",
    "    # MLDA without variance reduction\n",
    "    '''\n",
    "    t_start = time.time()\n",
    "    method_names.append(\"MLDA_without_vr\")\n",
    "    traces.append(pm.sample(draws=ndraws, step=step_mlda_without,\n",
    "                            chains=nchains, tune=nburn,\n",
    "                            discard_tuned_samples=discard_tuning,\n",
    "                            random_seed=sampling_seed, cores=1))\n",
    "    runtimes.append(time.time() - t_start)\n",
    "    '''\n"
   ]
  },
  {
   "cell_type": "code",
   "execution_count": 12,
   "metadata": {},
   "outputs": [
    {
     "data": {
      "text/plain": [
       "0.36268"
      ]
     },
     "execution_count": 12,
     "metadata": {},
     "output_type": "execute_result"
    }
   ],
   "source": [
    "step_mlda_with.next_step_method.next_step_method.accepted/50000"
   ]
  },
  {
   "cell_type": "markdown",
   "metadata": {},
   "source": [
    "### Print performance metrics"
   ]
  },
  {
   "cell_type": "code",
   "execution_count": 13,
   "metadata": {},
   "outputs": [
    {
     "name": "stderr",
     "output_type": "stream",
     "text": [
      "/Users/gmingas/opt/anaconda3/envs/testenv/lib/python3.6/site-packages/arviz/data/io_pymc3.py:89: FutureWarning: Using `from_pymc3` without the model will be deprecated in a future release. Not using the model will return less accurate and less useful results. Make sure you use the model argument or call from_pymc3 within a model context.\n",
      "  FutureWarning,\n"
     ]
    },
    {
     "name": "stdout",
     "output_type": "stream",
     "text": [
      "\n",
      "Sampler MLDA_with_vr: 2000 drawn samples in each of 1 chains.\n",
      "Runtime: 476.55776166915894 seconds\n",
      "Acceptance rate: 0.985\n",
      "ESS list: [1934.0818631  1917.07493867]\n",
      "Normalised ESS list: [0.96704093 0.95853747]\n",
      "ESS/sec: [4.05844164 4.02275462]\n"
     ]
    }
   ],
   "source": [
    "for i, trace in enumerate(traces):\n",
    "    acc.append(trace.get_sampler_stats('accepted').mean())\n",
    "    ess.append(np.array(pm.ess(trace).to_array()))\n",
    "    ess_n.append(ess[i] / len(trace) / trace.nchains)\n",
    "    performances.append(ess[i] / runtimes[i])\n",
    "    print(f'\\nSampler {method_names[i]}: {len(trace)} drawn samples in each of '\n",
    "          f'{trace.nchains} chains.'\n",
    "          f'\\nRuntime: {runtimes[i]} seconds'\n",
    "          f'\\nAcceptance rate: {acc[i]}'\n",
    "          f'\\nESS list: {ess[i]}'\n",
    "          f'\\nNormalised ESS list: {ess_n[i]}'\n",
    "          f'\\nESS/sec: {performances[i]}')\n"
   ]
  },
  {
   "cell_type": "markdown",
   "metadata": {},
   "source": [
    "### Show stats summary"
   ]
  },
  {
   "cell_type": "code",
   "execution_count": 14,
   "metadata": {},
   "outputs": [
    {
     "name": "stdout",
     "output_type": "stream",
     "text": [
      "\n",
      "Detailed summaries and plots:\n",
      "True parameters: [-0.20470766  0.47894334]\n"
     ]
    },
    {
     "name": "stderr",
     "output_type": "stream",
     "text": [
      "/Users/gmingas/opt/anaconda3/envs/testenv/lib/python3.6/site-packages/arviz/data/io_pymc3.py:89: FutureWarning: Using `from_pymc3` without the model will be deprecated in a future release. Not using the model will return less accurate and less useful results. Make sure you use the model argument or call from_pymc3 within a model context.\n",
      "  FutureWarning,\n",
      "arviz.stats.stats_utils - WARNING - Shape validation failed: input_shape: (1, 2000), minimum_shape: (chains=2, draws=4)\n",
      "arviz.stats.stats_utils - WARNING - Shape validation failed: input_shape: (1, 2000), minimum_shape: (chains=2, draws=4)\n"
     ]
    },
    {
     "name": "stdout",
     "output_type": "stream",
     "text": [
      "\n",
      "Sampler MLDA_with_vr:\n",
      "           mean     sd  hdi_3%  hdi_97%  mcse_mean  mcse_sd  ess_mean  ess_sd  \\\n",
      "theta_0 -0.184  0.173  -0.541    0.109      0.004    0.003    1931.0  1931.0   \n",
      "theta_1  0.488  0.041   0.413    0.563      0.001    0.001    1913.0  1913.0   \n",
      "\n",
      "         ess_bulk  ess_tail  r_hat  \n",
      "theta_0    1934.0    1892.0    NaN  \n",
      "theta_1    1917.0    1555.0    NaN  \n"
     ]
    }
   ],
   "source": [
    "# Print true theta values and pymc3 sampling summary\n",
    "print(f\"\\nDetailed summaries and plots:\\nTrue parameters: {true_parameters}\")\n",
    "for i, trace in enumerate(traces):\n",
    "    print(f\"\\nSampler {method_names[i]}:\\n\", pm.stats.summary(trace))"
   ]
  },
  {
   "cell_type": "markdown",
   "metadata": {},
   "source": [
    "### Show traceplots"
   ]
  },
  {
   "cell_type": "code",
   "execution_count": 15,
   "metadata": {},
   "outputs": [
    {
     "name": "stderr",
     "output_type": "stream",
     "text": [
      "/Users/gmingas/opt/anaconda3/envs/testenv/lib/python3.6/site-packages/arviz/data/io_pymc3.py:89: FutureWarning: Using `from_pymc3` without the model will be deprecated in a future release. Not using the model will return less accurate and less useful results. Make sure you use the model argument or call from_pymc3 within a model context.\n",
      "  FutureWarning,\n"
     ]
    },
    {
     "data": {
      "image/png": "[encoded data removed]",
      "text/plain": [
       "<Figure size 864x288 with 4 Axes>"
      ]
     },
     "metadata": {
      "needs_background": "light"
     },
     "output_type": "display_data"
    }
   ],
   "source": [
    "# Print true theta values and pymc3 sampling summary\n",
    "for i, trace in enumerate(traces):\n",
    "    pm.plots.traceplot(trace)"
   ]
  },
  {
   "cell_type": "markdown",
   "metadata": {},
   "source": [
    "### Estimate variances of two methods\n",
    "Compare variance of Q estimation between:\n",
    "- Standard approach: Using only Q values from the fine chain (Q_2)\n",
    "- Telescopic sum-like (VR) approach: Using Q values from the coarsest chain (Q_0), plus all estimates of differences between levels (e.g. Q_1_0, Q_2_1, etc)"
   ]
  },
  {
   "cell_type": "code",
   "execution_count": 16,
   "metadata": {},
   "outputs": [
    {
     "name": "stdout",
     "output_type": "stream",
     "text": [
      "Standard method:    Mean: 0.5406641936795561    Variance: 0.0\n",
      "Variance reduction method:    Mean: 0.5407793479694976    Variance: 0.0\n"
     ]
    }
   ],
   "source": [
    "Q_2 = traces[0].get_sampler_stats(\"Q_2\").reshape((nchains, ndraws))\n",
    "Q_0 = np.concatenate(traces[0].get_sampler_stats(\"Q_0\")).reshape((nchains, ndraws * nsub * nsub))\n",
    "Q_1_0 = np.concatenate(traces[0].get_sampler_stats(\"Q_1_0\")).reshape((nchains, ndraws * nsub))\n",
    "Q_2_1 = np.concatenate(traces[0].get_sampler_stats(\"Q_2_1\")).reshape((nchains, ndraws))\n",
    "Q_mean_standard = Q_2.mean(axis=1).mean()\n",
    "Q_var_standard = Q_2.mean(axis=1).var()\n",
    "Q_mean_vr = (Q_0.mean(axis=1) + Q_1_0.mean(axis=1) + Q_2_1.mean(axis=1)).mean()\n",
    "Q_var_vr = (Q_0.mean(axis=1) + Q_1_0.mean(axis=1) + Q_2_1.mean(axis=1)).var()\n",
    "\n",
    "print(f\"Standard method:    Mean: {Q_mean_standard}    Variance: {Q_var_standard}\")\n",
    "print(f\"Variance reduction method:    Mean: {Q_mean_vr}    Variance: {Q_var_vr}\")"
   ]
  },
  {
   "cell_type": "markdown",
   "metadata": {},
   "source": [
    "#### Variances of full samples - it is already visible that Q_2_1 has large variance - larger than Q_2"
   ]
  },
  {
   "cell_type": "code",
   "execution_count": 17,
   "metadata": {},
   "outputs": [
    {
     "data": {
      "text/plain": [
       "1.1336849615898661e-05"
      ]
     },
     "execution_count": 17,
     "metadata": {},
     "output_type": "execute_result"
    }
   ],
   "source": [
    "Q_2.var()"
   ]
  },
  {
   "cell_type": "code",
   "execution_count": 18,
   "metadata": {},
   "outputs": [
    {
     "data": {
      "text/plain": [
       "1.1243053285700024e-05"
      ]
     },
     "execution_count": 18,
     "metadata": {},
     "output_type": "execute_result"
    }
   ],
   "source": [
    "Q_0.var()"
   ]
  },
  {
   "cell_type": "code",
   "execution_count": 19,
   "metadata": {},
   "outputs": [
    {
     "data": {
      "text/plain": [
       "1.0356432858045198e-10"
      ]
     },
     "execution_count": 19,
     "metadata": {},
     "output_type": "execute_result"
    }
   ],
   "source": [
    "Q_1_0.var()"
   ]
  },
  {
   "cell_type": "code",
   "execution_count": 20,
   "metadata": {},
   "outputs": [
    {
     "data": {
      "text/plain": [
       "1.7731877555476304e-10"
      ]
     },
     "execution_count": 20,
     "metadata": {},
     "output_type": "execute_result"
    }
   ],
   "source": [
    "Q_2_1.var()"
   ]
  },
  {
   "cell_type": "markdown",
   "metadata": {},
   "source": [
    "#### Calculate standard error of each term using ESS"
   ]
  },
  {
   "cell_type": "code",
   "execution_count": 21,
   "metadata": {},
   "outputs": [],
   "source": [
    "import arviz\n",
    "ess_Q2 = arviz.ess(np.array(Q_2[0],np.float64))\n",
    "ess_Q0 = arviz.ess(np.array(Q_0,np.float64))\n",
    "ess_Q_1_0 = arviz.ess(np.array(Q_1_0,np.float64))\n",
    "ess_Q_2_1 = arviz.ess(np.array(Q_2_1,np.float64))"
   ]
  },
  {
   "cell_type": "code",
   "execution_count": 22,
   "metadata": {},
   "outputs": [
    {
     "data": {
      "text/plain": [
       "5.917663509737762e-09"
      ]
     },
     "execution_count": 22,
     "metadata": {},
     "output_type": "execute_result"
    }
   ],
   "source": [
    "Q_2.var()/ess_Q2"
   ]
  },
  {
   "cell_type": "code",
   "execution_count": 23,
   "metadata": {},
   "outputs": [
    {
     "data": {
      "text/plain": [
       "1.6466378814369656e-09"
      ]
     },
     "execution_count": 23,
     "metadata": {},
     "output_type": "execute_result"
    }
   ],
   "source": [
    "Q_0.var()/ess_Q0"
   ]
  },
  {
   "cell_type": "code",
   "execution_count": 24,
   "metadata": {},
   "outputs": [
    {
     "data": {
      "text/plain": [
       "1.831271609121333e-14"
      ]
     },
     "execution_count": 24,
     "metadata": {},
     "output_type": "execute_result"
    }
   ],
   "source": [
    "Q_1_0.var()/ess_Q_1_0"
   ]
  },
  {
   "cell_type": "code",
   "execution_count": 25,
   "metadata": {},
   "outputs": [
    {
     "data": {
      "text/plain": [
       "9.12030436586186e-14"
      ]
     },
     "execution_count": 25,
     "metadata": {},
     "output_type": "execute_result"
    }
   ],
   "source": [
    "Q_2_1.var()/ess_Q_2_1"
   ]
  },
  {
   "cell_type": "markdown",
   "metadata": {},
   "source": [
    "#### Calculate standard errors of final estimates with either method and with different chunks of the sample\n",
    "VR always has larger standard error\n",
    "Notice that the case with 1000 samples gives veryu similar SE to the original run I did here\n",
    "(where no ESS was used but SE was calculated based on 20 independent runs) : https://github.com/alan-turing-institute/pymc3/blob/feature/variance-reduction/docs/source/notebooks/MLDA_variance_reduction.ipynb"
   ]
  },
  {
   "cell_type": "code",
   "execution_count": 26,
   "metadata": {},
   "outputs": [
    {
     "name": "stdout",
     "output_type": "stream",
     "text": [
      "200 samples:\n",
      "Standard method SE: 5.024547002752055e-08\n",
      "VR method SE: 1.5207196196239056e-08\n"
     ]
    }
   ],
   "source": [
    "Q2_SE = Q_2[0,0:200].var() / arviz.ess(np.array(Q_2[0,0:200],np.float64))\n",
    "Q0_SE = Q_0[0,0:5000].var() / arviz.ess(np.array(Q_0[0,0:5000],np.float64))\n",
    "Q_1_0_SE = Q_1_0[0,0:1000].var() / arviz.ess(np.array(Q_1_0[0,0:1000],np.float64))\n",
    "Q_2_1_SE = Q_2_1[0,0:200].var() / arviz.ess(np.array(Q_2_1[0,0:200],np.float64))\n",
    "print(\"200 samples:\")\n",
    "print(\"Standard method SE: \" + str(Q2_SE))\n",
    "print(\"VR method SE: \" + str(Q0_SE + Q_1_0_SE + Q_2_1_SE))"
   ]
  },
  {
   "cell_type": "code",
   "execution_count": 27,
   "metadata": {},
   "outputs": [
    {
     "name": "stdout",
     "output_type": "stream",
     "text": [
      "1000 samples:\n",
      "Standard method SE: 1.2691673724648338e-08\n",
      "VR method SE: 3.517629802989176e-09\n"
     ]
    }
   ],
   "source": [
    "Q2_SE = Q_2[0,0:1000].var() / arviz.ess(np.array(Q_2[0,0:1000],np.float64))\n",
    "Q0_SE = Q_0[0,0:25000].var() / arviz.ess(np.array(Q_0[0,0:25000],np.float64))\n",
    "Q_1_0_SE = Q_1_0[0,0:5000].var() / arviz.ess(np.array(Q_1_0[0,0:5000],np.float64))\n",
    "Q_2_1_SE = Q_2_1[0,0:1000].var() / arviz.ess(np.array(Q_2_1[0,0:1000],np.float64))\n",
    "print(\"1000 samples:\")\n",
    "print(\"Standard method SE: \" + str(Q2_SE))\n",
    "print(\"VR method SE: \" + str(Q0_SE + Q_1_0_SE + Q_2_1_SE))"
   ]
  },
  {
   "cell_type": "code",
   "execution_count": 28,
   "metadata": {},
   "outputs": [
    {
     "name": "stdout",
     "output_type": "stream",
     "text": [
      "2000 samples:\n",
      "Standard method SE: 5.917663509737762e-09\n",
      "VR method SE: 1.6467473971967154e-09\n"
     ]
    }
   ],
   "source": [
    "Q2_SE = Q_2.var() / arviz.ess(np.array(Q_2[0],np.float64))\n",
    "Q0_SE = Q_0.var() / arviz.ess(np.array(Q_0,np.float64))\n",
    "Q_1_0_SE = Q_1_0.var() / arviz.ess(np.array(Q_1_0,np.float64))\n",
    "Q_2_1_SE = Q_2_1.var() / arviz.ess(np.array(Q_2_1,np.float64))\n",
    "print(\"2000 samples:\")\n",
    "print(\"Standard method SE: \" + str(Q2_SE))\n",
    "print(\"VR method SE: \" + str(Q0_SE + Q_1_0_SE + Q_2_1_SE))"
   ]
  },
  {
   "cell_type": "code",
   "execution_count": 29,
   "metadata": {},
   "outputs": [
    {
     "data": {
      "text/plain": [
       "(array([ 1.,  0.,  0.,  0.,  0.,  0.,  0.,  0.,  0.,  1.,  2.,  0.,  1.,\n",
       "         2.,  0.,  0.,  3.,  1.,  1.,  1.,  5.,  1.,  3.,  1.,  2.,  3.,\n",
       "         2.,  1.,  3.,  0.,  1.,  2.,  2.,  4.,  3.,  5.,  3.,  5.,  4.,\n",
       "         5.,  5.,  8.,  5., 12.,  2.,  9.,  5., 18.,  5., 10.,  8., 17.,\n",
       "        11., 12., 10.,  9., 11., 16., 13., 11., 15., 17., 24., 10., 22.,\n",
       "        22., 16., 20., 16., 24., 16., 24., 24., 21., 26., 24., 33., 30.,\n",
       "        25., 26., 27., 19., 34., 35., 20., 28., 28., 28., 32., 26., 26.,\n",
       "        26., 25., 23., 23., 24., 20., 32., 34., 27., 29., 25., 12., 28.,\n",
       "        24., 22., 23., 26., 18., 21., 31., 23., 23., 18., 24., 20., 22.,\n",
       "        21., 16., 17., 16., 14., 15., 18., 14.,  9., 11., 14.,  6., 10.,\n",
       "         6., 15.,  9., 11., 10.,  6., 12., 10.,  6.,  4.,  7., 11.,  1.,\n",
       "        11.,  3.,  7.,  6.,  4.,  0.,  5.,  5.,  3.,  2.,  2.,  3.,  2.,\n",
       "         1.,  1.,  2.,  2.,  2.,  1.,  2.,  0.,  1.,  2.,  2.,  0.,  1.,\n",
       "         3.,  1.,  2.,  2.,  0.,  0.,  0.,  2.,  0.,  0.,  0.,  0.,  1.,\n",
       "         0.,  0.,  1.,  1.,  0.,  0.,  0.,  0.,  0.,  0.,  0.,  0.,  0.,\n",
       "         0.,  0.,  0.,  1.,  1.]),\n",
       " array([0.00010685, 0.00010731, 0.00010777, 0.00010822, 0.00010868,\n",
       "        0.00010914, 0.00010959, 0.00011005, 0.00011051, 0.00011096,\n",
       "        0.00011142, 0.00011188, 0.00011233, 0.00011279, 0.00011325,\n",
       "        0.0001137 , 0.00011416, 0.00011462, 0.00011507, 0.00011553,\n",
       "        0.00011599, 0.00011644, 0.0001169 , 0.00011736, 0.00011781,\n",
       "        0.00011827, 0.00011873, 0.00011918, 0.00011964, 0.0001201 ,\n",
       "        0.00012055, 0.00012101, 0.00012147, 0.00012192, 0.00012238,\n",
       "        0.00012284, 0.00012329, 0.00012375, 0.00012421, 0.00012466,\n",
       "        0.00012512, 0.00012558, 0.00012603, 0.00012649, 0.00012695,\n",
       "        0.0001274 , 0.00012786, 0.00012832, 0.00012877, 0.00012923,\n",
       "        0.00012969, 0.00013014, 0.0001306 , 0.00013106, 0.00013151,\n",
       "        0.00013197, 0.00013243, 0.00013288, 0.00013334, 0.0001338 ,\n",
       "        0.00013425, 0.00013471, 0.00013517, 0.00013562, 0.00013608,\n",
       "        0.00013654, 0.00013699, 0.00013745, 0.00013791, 0.00013836,\n",
       "        0.00013882, 0.00013928, 0.00013973, 0.00014019, 0.00014065,\n",
       "        0.00014111, 0.00014156, 0.00014202, 0.00014248, 0.00014293,\n",
       "        0.00014339, 0.00014385, 0.0001443 , 0.00014476, 0.00014522,\n",
       "        0.00014567, 0.00014613, 0.00014659, 0.00014704, 0.0001475 ,\n",
       "        0.00014796, 0.00014841, 0.00014887, 0.00014933, 0.00014978,\n",
       "        0.00015024, 0.0001507 , 0.00015115, 0.00015161, 0.00015207,\n",
       "        0.00015252, 0.00015298, 0.00015344, 0.00015389, 0.00015435,\n",
       "        0.00015481, 0.00015526, 0.00015572, 0.00015618, 0.00015663,\n",
       "        0.00015709, 0.00015755, 0.000158  , 0.00015846, 0.00015892,\n",
       "        0.00015937, 0.00015983, 0.00016029, 0.00016074, 0.0001612 ,\n",
       "        0.00016166, 0.00016211, 0.00016257, 0.00016303, 0.00016348,\n",
       "        0.00016394, 0.0001644 , 0.00016485, 0.00016531, 0.00016577,\n",
       "        0.00016622, 0.00016668, 0.00016714, 0.00016759, 0.00016805,\n",
       "        0.00016851, 0.00016896, 0.00016942, 0.00016988, 0.00017033,\n",
       "        0.00017079, 0.00017125, 0.0001717 , 0.00017216, 0.00017262,\n",
       "        0.00017307, 0.00017353, 0.00017399, 0.00017445, 0.0001749 ,\n",
       "        0.00017536, 0.00017582, 0.00017627, 0.00017673, 0.00017719,\n",
       "        0.00017764, 0.0001781 , 0.00017856, 0.00017901, 0.00017947,\n",
       "        0.00017993, 0.00018038, 0.00018084, 0.0001813 , 0.00018175,\n",
       "        0.00018221, 0.00018267, 0.00018312, 0.00018358, 0.00018404,\n",
       "        0.00018449, 0.00018495, 0.00018541, 0.00018586, 0.00018632,\n",
       "        0.00018678, 0.00018723, 0.00018769, 0.00018815, 0.0001886 ,\n",
       "        0.00018906, 0.00018952, 0.00018997, 0.00019043, 0.00019089,\n",
       "        0.00019134, 0.0001918 , 0.00019226, 0.00019271, 0.00019317,\n",
       "        0.00019363, 0.00019408, 0.00019454, 0.000195  , 0.00019545,\n",
       "        0.00019591, 0.00019637, 0.00019682, 0.00019728, 0.00019774,\n",
       "        0.00019819]),\n",
       " [<matplotlib.patches.Polygon at 0x7fdfab6e31d0>])"
      ]
     },
     "execution_count": 29,
     "metadata": {},
     "output_type": "execute_result"
    },
    {
     "data": {
      "image/png": "[encoded data removed]",
      "text/plain": [
       "<Figure size 432x288 with 1 Axes>"
      ]
     },
     "metadata": {
      "needs_background": "light"
     },
     "output_type": "display_data"
    }
   ],
   "source": [
    "plt.hist(Q_2_1[0], bins=200, histtype='step')"
   ]
  },
  {
   "cell_type": "code",
   "execution_count": null,
   "metadata": {},
   "outputs": [],
   "source": []
  }
 ],
 "metadata": {
  "kernelspec": {
   "display_name": "Python 3",
   "language": "python",
   "name": "python3"
  },
  "language_info": {
   "codemirror_mode": {
    "name": "ipython",
    "version": 3
   },
   "file_extension": ".py",
   "mimetype": "text/x-python",
   "name": "python",
   "nbconvert_exporter": "python",
   "pygments_lexer": "ipython3",
   "version": "3.6.11"
  }
 },
 "nbformat": 4,
 "nbformat_minor": 4
}
