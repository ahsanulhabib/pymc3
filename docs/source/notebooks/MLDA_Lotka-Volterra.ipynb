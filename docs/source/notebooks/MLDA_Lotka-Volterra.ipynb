{
 "cells": [
  {
   "cell_type": "code",
   "execution_count": 37,
   "metadata": {},
   "outputs": [],
   "source": [
    "## Lotka-Volterra Example"
   ]
  },
  {
   "cell_type": "code",
   "execution_count": 38,
   "metadata": {},
   "outputs": [],
   "source": [
    "import numpy as np\n",
    "\n",
    "from numpy import linalg as LA\n",
    "\n",
    "from scipy.integrate import solve_ivp\n",
    "\n",
    "import matplotlib.pyplot as plt\n",
    "\n",
    "import time\n",
    "\n",
    "import pymc3 as pm\n",
    "\n",
    "import theano.tensor as tt"
   ]
  },
  {
   "cell_type": "code",
   "execution_count": null,
   "metadata": {},
   "outputs": [],
   "source": []
  },
  {
   "cell_type": "code",
   "execution_count": 39,
   "metadata": {},
   "outputs": [],
   "source": [
    "\n",
    "class LotkaVolterra:\n",
    "    \n",
    "    def __init__(self, tol, numDataPoints):\n",
    "        \n",
    "        self.tol = tol\n",
    "        \n",
    "        self.T = 15\n",
    "              \n",
    "        self.numDataPoints = numDataPoints\n",
    "        \n",
    "        self.numData = 50\n",
    "        \n",
    "        self.t_star = np.linspace(0.0, self.T, self.numData)\n",
    "        \n",
    "        self.t_eval = self.t_star[1:self.numDataPoints+1]\n",
    "        \n",
    "        self.sigf = 1\n",
    "        \n",
    "        self.true_theta = [10., 5., 1., 0.1, 1.5, 0.75]\n",
    "        \n",
    "    def setObservations(self, data_X):\n",
    "        \n",
    "        self.data_times = self.t_star[0:self.numDataPoints]\n",
    "        \n",
    "        self.data_Prey =  data_X[0, 0:self.numDataPoints]\n",
    "        self.data_Pred = data_X[1, 0:self.numDataPoints]\n",
    "              \n",
    "    \n",
    "    def dXdt(self,t, X, a, b, c, d):\n",
    "        \"\"\" Return the growth rate of fox and rabbit populations. \"\"\"\n",
    "        \n",
    "        return np.array([a*X[0] - b*X[0]*X[1], -c*X[1] + d*b*X[0]*X[1]])\n",
    "    \n",
    "    def simulate(self, theta):\n",
    "        P0, Q0, a, b, c, d = theta\n",
    "        sol = solve_ivp(self.dXdt, [0, self.t_eval[-1]], [P0, Q0], t_eval = self.data_times, rtol = self.tol, args=(a, b, c, d))\n",
    "        return sol.y\n",
    "        \n",
    "        \n",
    "    def simulateData(self, dataSeed = 2020, sig = 1.0, plotData = False):\n",
    "        \n",
    "        P0, Q0, a, b, c, d = self.true_theta\n",
    "        \n",
    "        sol = solve_ivp(self.dXdt, [0, self.T], [P0, Q0], t_eval = self.t_star, args=(a, b, c, d))\n",
    "        \n",
    "        np.random.seed(dataSeed) # Set seed for reproducability\n",
    "        \n",
    "        data = sol.y + np.random.normal(0.0, sig, size=(2,self.numData))\n",
    "        \n",
    "        if(plotData):        \n",
    "            _, ax = plt.subplots(figsize=(12,4))\n",
    "            ax.plot(data[0,:], 'x', label='prey')\n",
    "            ax.plot(data[1,:], 'x', label='predator')\n",
    "            ax.set_xlabel('Time')\n",
    "            ax.set_ylabel('Population')\n",
    "            ax.set_title('Observed data')\n",
    "            ax.legend();\n",
    "            \n",
    "        return data\n",
    "    \n",
    "    def logDensity(self, theta):\n",
    "        \n",
    "        output = self.simulate(theta)    \n",
    "        \n",
    "        misfit_Prey = np.sum((output[0,:] - self.data_Prey)**2)\n",
    "        \n",
    "        misfit_Pred = np.sum((output[1,:] - self.data_Pred)**2)\n",
    "        \n",
    "        logDensity =  - (0.5 / self.sigf ** 2) * (misfit_Prey + misfit_Pred)\n",
    "        \n",
    "        return logDensity\n",
    "        \n",
    "        \n",
    "        \n",
    "\n",
    "\n"
   ]
  },
  {
   "cell_type": "code",
   "execution_count": null,
   "metadata": {},
   "outputs": [],
   "source": []
  },
  {
   "cell_type": "code",
   "execution_count": 40,
   "metadata": {},
   "outputs": [],
   "source": [
    "numLevels = 3\n",
    "factor = 5\n",
    "\n",
    "# Number of draws from the distribution\n",
    "ndraws = 1000\n",
    "\n",
    "# Number of burn-in samples\n",
    "nburn = 100\n",
    "\n",
    "# MLDA and Metropolis tuning parameters\n",
    "tune = True\n",
    "tune_interval = 100\n",
    "discard_tuning = True\n",
    "\n",
    "# Number of independent chains\n",
    "nchains = 2\n",
    "\n",
    "# Subsampling rate for MLDA\n",
    "nsub = 10\n",
    "\n",
    "# Do blocked/compounds sampling in Metropolis and MLDA \n",
    "# Note: This choice applies only to the coarsest level in MLDA \n",
    "# (where a Metropolis sampler is used), all other levels use block sampling\n",
    "blocked = False\n",
    "\n",
    "# Data generation seed\n",
    "data_seed = 2020\n",
    "\n",
    "# Sampling seed\n",
    "sampling_seed = 12345\n"
   ]
  },
  {
   "cell_type": "code",
   "execution_count": null,
   "metadata": {},
   "outputs": [],
   "source": []
  },
  {
   "cell_type": "code",
   "execution_count": 41,
   "metadata": {},
   "outputs": [
    {
     "name": "stdout",
     "output_type": "stream",
     "text": [
      "-44.03813757190868\n"
     ]
    },
    {
     "data": {
      "image/png": "[encoded data removed]",
      "text/plain": [
       "<Figure size 864x288 with 1 Axes>"
      ]
     },
     "metadata": {
      "needs_background": "light"
     },
     "output_type": "display_data"
    }
   ],
   "source": [
    "tol = [None] * numLevels\n",
    "numData = [None] * numLevels\n",
    "models = [None] * numLevels\n",
    "\n",
    "param = ['P0', 'Q0', 'a', 'b', 'c', 'd']\n",
    "\n",
    "nparam = len(param)\n",
    "\n",
    "# Setup a Hierarchy of Model with descreasing time step size (dt) and increasing amount of data.\n",
    "tol[0] = 1e-2\n",
    "numData = [10,25,50]\n",
    "for i in range(1,numLevels):\n",
    "    tol[i] = tol[i-1] / factor\n",
    "for i in range(numLevels):\n",
    "    models[i] = LotkaVolterra(tol[i],numData[i])\n",
    "\n",
    "\n",
    "# Generate True Data Using Finest Model\n",
    "\n",
    "data = models[-1].simulateData(plotData = True) # Simulate Solution on finest level\n",
    "\n",
    "for i in range(numLevels):\n",
    "    models[i].setObservations(data)\n",
    "\n",
    "    \n",
    "print(models[-1].logDensity(models[-1].true_theta))"
   ]
  },
  {
   "cell_type": "code",
   "execution_count": 42,
   "metadata": {},
   "outputs": [],
   "source": [
    "np.random.seed(sampling_seed)"
   ]
  },
  {
   "cell_type": "code",
   "execution_count": null,
   "metadata": {},
   "outputs": [],
   "source": []
  },
  {
   "cell_type": "code",
   "execution_count": 43,
   "metadata": {},
   "outputs": [],
   "source": [
    "class LogLike(tt.Op):\n",
    "    # Function simply wraps Log-Likelihood calculation in Theano Op\n",
    "    itypes = [tt.dvector]  # expects a vector of parameter values when called\n",
    "    otypes = [tt.dscalar]  # outputs a single scalar value (the log likelihood)\n",
    "\n",
    "    def __init__(self, my_model):\n",
    "        # add inputs as class attributes\n",
    "        self.my_model = my_model\n",
    "\n",
    "    def perform(self, node, inputs, outputs):\n",
    "        # the method that is used when calling the Op\n",
    "        theta = inputs[0]  # this will contain my variables\n",
    "        # call the log-likelihood function\n",
    "        logl = self.my_model.logDensity(theta)\n",
    "        outputs[0][0] = np.array(logl) # output the log-likelihood\n",
    "        \n",
    "# create Theano Ops to wrap likelihoods of all model levels and store them in list\n",
    "logl = []\n",
    "for m in models:\n",
    "    logl.append(LogLike(m))"
   ]
  },
  {
   "cell_type": "code",
   "execution_count": null,
   "metadata": {},
   "outputs": [],
   "source": []
  },
  {
   "cell_type": "code",
   "execution_count": 44,
   "metadata": {},
   "outputs": [],
   "source": [
    "# Set up models in pymc3 for each level - excluding finest model level\n",
    "coarse_models = []\n",
    "for j in range(numLevels - 1):\n",
    "    \n",
    "    with pm.Model() as model:\n",
    "        # uniform priors on parameters\n",
    "        parameters = []\n",
    "        \n",
    "        # Need to write out the parameters with variables\n",
    "        \n",
    "        BoundedNormal = pm.Normal\n",
    "        \n",
    "        parameters.append(BoundedNormal('P0', mu=10.0, sd=0.1))\n",
    "        parameters.append(BoundedNormal('Q0', mu=5.0, sd=1.))\n",
    "        parameters.append(BoundedNormal('a', mu=1.0, sd=0.1))\n",
    "        parameters.append(BoundedNormal('b', mu=0.1, sd=0.1))\n",
    "        parameters.append(BoundedNormal('c', mu=1.5, sd=0.1))\n",
    "        parameters.append(BoundedNormal('d', mu=1.0, sd=0.2))\n",
    "        \n",
    "        # convert m and c to a tensor vector\n",
    "        theta = tt.as_tensor_variable(parameters)\n",
    "\n",
    "        # use a DensityDist (use a lamdba function to \"call\" the Op)\n",
    "        ll = logl[j]\n",
    "        pm.DensityDist('likelihood', lambda v: ll(v), observed={'v': theta})\n",
    "\n",
    "    coarse_models.append(model)"
   ]
  },
  {
   "cell_type": "code",
   "execution_count": null,
   "metadata": {},
   "outputs": [],
   "source": []
  },
  {
   "cell_type": "code",
   "execution_count": 45,
   "metadata": {},
   "outputs": [
    {
     "name": "stderr",
     "output_type": "stream",
     "text": [
      "/Users/gmingas/projects/pymc3/pymc3/step_methods/metropolis.py:1053: UserWarning: The MLDA implementation in PyMC3 is very young. You should be extra critical about its results.\n",
      "  'The MLDA implementation in PyMC3 is very young. '\n",
      "Multiprocess sampling (2 chains in 4 jobs)\n",
      "MLDA: [d, c, b, a, Q0, P0]\n"
     ]
    },
    {
     "data": {
      "text/html": [
       "\n",
       "    <div>\n",
       "        <style>\n",
       "            /* Turns off some styling */\n",
       "            progress {\n",
       "                /* gets rid of default border in Firefox and Opera. */\n",
       "                border: none;\n",
       "                /* Needs to be in here for Safari polyfill so background images work as expected. */\n",
       "                background-size: auto;\n",
       "            }\n",
       "            .progress-bar-interrupted, .progress-bar-interrupted::-webkit-progress-bar {\n",
       "                background: #F44336;\n",
       "            }\n",
       "        </style>\n",
       "      <progress value='330' class='' max='2200' style='width:300px; height:20px; vertical-align: middle;'></progress>\n",
       "      15.00% [330/2200 04:13<23:56 Sampling 2 chains, 0 divergences]\n",
       "    </div>\n",
       "    "
      ],
      "text/plain": [
       "<IPython.core.display.HTML object>"
      ]
     },
     "metadata": {},
     "output_type": "display_data"
    },
    {
     "ename": "RuntimeError",
     "evalue": "Chain 1 failed.",
     "output_type": "error",
     "traceback": [
      "\u001b[0;31m---------------------------------------------------------------------------\u001b[0m",
      "\u001b[0;31mRemoteTraceback\u001b[0m                           Traceback (most recent call last)",
      "\u001b[0;31mRemoteTraceback\u001b[0m: \n\"\"\"\nTraceback (most recent call last):\n  File \"/Users/gmingas/opt/anaconda3/lib/python3.6/site-packages/theano/compile/function_module.py\", line 903, in __call__\n    self.fn() if output_subset is None else\\\n  File \"/Users/gmingas/opt/anaconda3/lib/python3.6/site-packages/theano/gof/op.py\", line 892, in rval\n    r = p(n, [x[0] for x in i], o)\n  File \"<ipython-input-43-f1bc34317f7e>\", line 14, in perform\n    logl = self.my_model.logDensity(theta)\n  File \"<ipython-input-39-69c84ba9ca8a>\", line 65, in logDensity\n    misfit_Prey = np.sum((output[0,:] - self.data_Prey)**2)\nValueError: operands could not be broadcast together with shapes (14,) (25,) \n\nDuring handling of the above exception, another exception occurred:\n\nTraceback (most recent call last):\n  File \"/Users/gmingas/projects/pymc3/pymc3/parallel_sampling.py\", line 128, in run\n    self._start_loop()\n  File \"/Users/gmingas/projects/pymc3/pymc3/parallel_sampling.py\", line 182, in _start_loop\n    point, stats = self._compute_point()\n  File \"/Users/gmingas/projects/pymc3/pymc3/parallel_sampling.py\", line 209, in _compute_point\n    point, stats = self._step_method.step(self._point)\n  File \"/Users/gmingas/projects/pymc3/pymc3/step_methods/arraystep.py\", line 189, in step\n    apoint, stats = self.astep(self.bij.map(point))\n  File \"/Users/gmingas/projects/pymc3/pymc3/step_methods/metropolis.py\", line 1225, in astep\n    q = self.bij.map(self.proposal_dist(q0_dict))\n  File \"/Users/gmingas/projects/pymc3/pymc3/step_methods/metropolis.py\", line 133, in __call__\n    discard_tuned_samples=False).point(-1)\n  File \"/Users/gmingas/projects/pymc3/pymc3/sampling.py\", line 531, in sample\n    trace = _sample_many(**sample_args)\n  File \"/Users/gmingas/projects/pymc3/pymc3/sampling.py\", line 632, in _sample_many\n    **kwargs\n  File \"/Users/gmingas/projects/pymc3/pymc3/sampling.py\", line 769, in _sample\n    for it, (strace, diverging) in enumerate(sampling):\n  File \"/Users/gmingas/projects/pymc3/pymc3/sampling.py\", line 916, in _iter_sample\n    point, stats = step.step(point)\n  File \"/Users/gmingas/projects/pymc3/pymc3/step_methods/arraystep.py\", line 189, in step\n    apoint, stats = self.astep(self.bij.map(point))\n  File \"/Users/gmingas/projects/pymc3/pymc3/step_methods/metropolis.py\", line 1234, in astep\n    accept = self.delta_logp(q, q0) + self.delta_logp_next(q0, q)\n  File \"/Users/gmingas/opt/anaconda3/lib/python3.6/site-packages/theano/compile/function_module.py\", line 917, in __call__\n    storage_map=getattr(self.fn, 'storage_map', None))\n  File \"/Users/gmingas/opt/anaconda3/lib/python3.6/site-packages/theano/gof/link.py\", line 325, in raise_with_op\n    reraise(exc_type, exc_value, exc_trace)\n  File \"/Users/gmingas/opt/anaconda3/lib/python3.6/site-packages/six.py\", line 702, in reraise\n    raise value.with_traceback(tb)\n  File \"/Users/gmingas/opt/anaconda3/lib/python3.6/site-packages/theano/compile/function_module.py\", line 903, in __call__\n    self.fn() if output_subset is None else\\\n  File \"/Users/gmingas/opt/anaconda3/lib/python3.6/site-packages/theano/gof/op.py\", line 892, in rval\n    r = p(n, [x[0] for x in i], o)\n  File \"<ipython-input-43-f1bc34317f7e>\", line 14, in perform\n    logl = self.my_model.logDensity(theta)\n  File \"<ipython-input-39-69c84ba9ca8a>\", line 65, in logDensity\n    misfit_Prey = np.sum((output[0,:] - self.data_Prey)**2)\nValueError: operands could not be broadcast together with shapes (14,) (25,) \nApply node that caused the error: <__main__.LogLike object at 0x7fa538eaf630>(MakeVector{dtype='float64'}.0)\nToposort index: 62\nInputs types: [TensorType(float64, vector)]\nInputs shapes: [(6,)]\nInputs strides: [(8,)]\nInputs values: ['not shown']\nOutputs clients: [[MakeVector{dtype='float64'}(__logp_P0, __logp_Q0, __logp_a, __logp_b, __logp_c, __logp_d, __logp_likelihood)]]\n\nBacktrace when the node is created(use Theano flag traceback.limit=N to make it longer):\n  File \"/Users/gmingas/opt/anaconda3/lib/python3.6/site-packages/IPython/core/interactiveshell.py\", line 3254, in run_ast_nodes\n    if (await self.run_code(code, result,  async_=asy)):\n  File \"/Users/gmingas/opt/anaconda3/lib/python3.6/site-packages/IPython/core/interactiveshell.py\", line 3331, in run_code\n    exec(code_obj, self.user_global_ns, self.user_ns)\n  File \"<ipython-input-44-2301e89416ad>\", line 25, in <module>\n    pm.DensityDist('likelihood', lambda v: ll(v), observed={'v': theta})\n  File \"/Users/gmingas/projects/pymc3/pymc3/distributions/distribution.py\", line 66, in __new__\n    return model.Var(name, dist, data, total_size)\n  File \"/Users/gmingas/projects/pymc3/pymc3/model.py\", line 1017, in Var\n    total_size=total_size, model=self)\n  File \"/Users/gmingas/projects/pymc3/pymc3/model.py\", line 1631, in __init__\n    self.logp_sum_unscaledt = distribution.logp_sum(**self.data)\n  File \"/Users/gmingas/projects/pymc3/pymc3/distributions/distribution.py\", line 143, in logp_sum\n    return tt.sum(self.logp(*args, **kwargs))\n  File \"<ipython-input-44-2301e89416ad>\", line 25, in <lambda>\n    pm.DensityDist('likelihood', lambda v: ll(v), observed={'v': theta})\n\nHINT: Use the Theano flag 'exception_verbosity=high' for a debugprint and storage map footprint of this apply node.\n\"\"\"",
      "\nThe above exception was the direct cause of the following exception:\n",
      "\u001b[0;31mValueError\u001b[0m                                Traceback (most recent call last)",
      "\u001b[0;31mValueError\u001b[0m: operands could not be broadcast together with shapes (14,) (25,) \nApply node that caused the error: <__main__.LogLike object at 0x7fa538eaf630>(MakeVector{dtype='float64'}.0)\nToposort index: 62\nInputs types: [TensorType(float64, vector)]\nInputs shapes: [(6,)]\nInputs strides: [(8,)]\nInputs values: ['not shown']\nOutputs clients: [[MakeVector{dtype='float64'}(__logp_P0, __logp_Q0, __logp_a, __logp_b, __logp_c, __logp_d, __logp_likelihood)]]\n\nBacktrace when the node is created(use Theano flag traceback.limit=N to make it longer):\n  File \"/Users/gmingas/opt/anaconda3/lib/python3.6/site-packages/IPython/core/interactiveshell.py\", line 3254, in run_ast_nodes\n    if (await self.run_code(code, result,  async_=asy)):\n  File \"/Users/gmingas/opt/anaconda3/lib/python3.6/site-packages/IPython/core/interactiveshell.py\", line 3331, in run_code\n    exec(code_obj, self.user_global_ns, self.user_ns)\n  File \"<ipython-input-44-2301e89416ad>\", line 25, in <module>\n    pm.DensityDist('likelihood', lambda v: ll(v), observed={'v': theta})\n  File \"/Users/gmingas/projects/pymc3/pymc3/distributions/distribution.py\", line 66, in __new__\n    return model.Var(name, dist, data, total_size)\n  File \"/Users/gmingas/projects/pymc3/pymc3/model.py\", line 1017, in Var\n    total_size=total_size, model=self)\n  File \"/Users/gmingas/projects/pymc3/pymc3/model.py\", line 1631, in __init__\n    self.logp_sum_unscaledt = distribution.logp_sum(**self.data)\n  File \"/Users/gmingas/projects/pymc3/pymc3/distributions/distribution.py\", line 143, in logp_sum\n    return tt.sum(self.logp(*args, **kwargs))\n  File \"<ipython-input-44-2301e89416ad>\", line 25, in <lambda>\n    pm.DensityDist('likelihood', lambda v: ll(v), observed={'v': theta})\n\nHINT: Use the Theano flag 'exception_verbosity=high' for a debugprint and storage map footprint of this apply node.",
      "\nThe above exception was the direct cause of the following exception:\n",
      "\u001b[0;31mRuntimeError\u001b[0m                              Traceback (most recent call last)",
      "\u001b[0;32m<ipython-input-45-8629709f756a>\u001b[0m in \u001b[0;36m<module>\u001b[0;34m\u001b[0m\n\u001b[1;32m     58\u001b[0m                             \u001b[0mchains\u001b[0m\u001b[0;34m=\u001b[0m\u001b[0mnchains\u001b[0m\u001b[0;34m,\u001b[0m \u001b[0mtune\u001b[0m\u001b[0;34m=\u001b[0m\u001b[0mnburn\u001b[0m\u001b[0;34m,\u001b[0m\u001b[0;34m\u001b[0m\u001b[0;34m\u001b[0m\u001b[0m\n\u001b[1;32m     59\u001b[0m                             \u001b[0mdiscard_tuned_samples\u001b[0m\u001b[0;34m=\u001b[0m\u001b[0mdiscard_tuning\u001b[0m\u001b[0;34m,\u001b[0m\u001b[0;34m\u001b[0m\u001b[0;34m\u001b[0m\u001b[0m\n\u001b[0;32m---> 60\u001b[0;31m                             random_seed=sampling_seed))\n\u001b[0m\u001b[1;32m     61\u001b[0m     \u001b[0mruntimes\u001b[0m\u001b[0;34m.\u001b[0m\u001b[0mappend\u001b[0m\u001b[0;34m(\u001b[0m\u001b[0mtime\u001b[0m\u001b[0;34m.\u001b[0m\u001b[0mtime\u001b[0m\u001b[0;34m(\u001b[0m\u001b[0;34m)\u001b[0m \u001b[0;34m-\u001b[0m \u001b[0mt_start\u001b[0m\u001b[0;34m)\u001b[0m\u001b[0;34m\u001b[0m\u001b[0;34m\u001b[0m\u001b[0m\n\u001b[1;32m     62\u001b[0m \u001b[0;34m\u001b[0m\u001b[0m\n",
      "\u001b[0;32m~/projects/pymc3/pymc3/sampling.py\u001b[0m in \u001b[0;36msample\u001b[0;34m(draws, step, init, n_init, start, trace, chain_idx, chains, cores, tune, progressbar, model, random_seed, discard_tuned_samples, compute_convergence_checks, callback, **kwargs)\u001b[0m\n\u001b[1;32m    490\u001b[0m         \u001b[0m_print_step_hierarchy\u001b[0m\u001b[0;34m(\u001b[0m\u001b[0mstep\u001b[0m\u001b[0;34m)\u001b[0m\u001b[0;34m\u001b[0m\u001b[0;34m\u001b[0m\u001b[0m\n\u001b[1;32m    491\u001b[0m         \u001b[0;32mtry\u001b[0m\u001b[0;34m:\u001b[0m\u001b[0;34m\u001b[0m\u001b[0;34m\u001b[0m\u001b[0m\n\u001b[0;32m--> 492\u001b[0;31m             \u001b[0mtrace\u001b[0m \u001b[0;34m=\u001b[0m \u001b[0m_mp_sample\u001b[0m\u001b[0;34m(\u001b[0m\u001b[0;34m**\u001b[0m\u001b[0msample_args\u001b[0m\u001b[0;34m)\u001b[0m\u001b[0;34m\u001b[0m\u001b[0;34m\u001b[0m\u001b[0m\n\u001b[0m\u001b[1;32m    493\u001b[0m         \u001b[0;32mexcept\u001b[0m \u001b[0mpickle\u001b[0m\u001b[0;34m.\u001b[0m\u001b[0mPickleError\u001b[0m\u001b[0;34m:\u001b[0m\u001b[0;34m\u001b[0m\u001b[0;34m\u001b[0m\u001b[0m\n\u001b[1;32m    494\u001b[0m             \u001b[0m_log\u001b[0m\u001b[0;34m.\u001b[0m\u001b[0mwarning\u001b[0m\u001b[0;34m(\u001b[0m\u001b[0;34m\"Could not pickle model, sampling singlethreaded.\"\u001b[0m\u001b[0;34m)\u001b[0m\u001b[0;34m\u001b[0m\u001b[0;34m\u001b[0m\u001b[0m\n",
      "\u001b[0;32m~/projects/pymc3/pymc3/sampling.py\u001b[0m in \u001b[0;36m_mp_sample\u001b[0;34m(draws, tune, step, chains, cores, chain, random_seed, start, progressbar, trace, model, callback, **kwargs)\u001b[0m\n\u001b[1;32m   1376\u001b[0m         \u001b[0;32mtry\u001b[0m\u001b[0;34m:\u001b[0m\u001b[0;34m\u001b[0m\u001b[0;34m\u001b[0m\u001b[0m\n\u001b[1;32m   1377\u001b[0m             \u001b[0;32mwith\u001b[0m \u001b[0msampler\u001b[0m\u001b[0;34m:\u001b[0m\u001b[0;34m\u001b[0m\u001b[0;34m\u001b[0m\u001b[0m\n\u001b[0;32m-> 1378\u001b[0;31m                 \u001b[0;32mfor\u001b[0m \u001b[0mdraw\u001b[0m \u001b[0;32min\u001b[0m \u001b[0msampler\u001b[0m\u001b[0;34m:\u001b[0m\u001b[0;34m\u001b[0m\u001b[0;34m\u001b[0m\u001b[0m\n\u001b[0m\u001b[1;32m   1379\u001b[0m                     \u001b[0mtrace\u001b[0m \u001b[0;34m=\u001b[0m \u001b[0mtraces\u001b[0m\u001b[0;34m[\u001b[0m\u001b[0mdraw\u001b[0m\u001b[0;34m.\u001b[0m\u001b[0mchain\u001b[0m \u001b[0;34m-\u001b[0m \u001b[0mchain\u001b[0m\u001b[0;34m]\u001b[0m\u001b[0;34m\u001b[0m\u001b[0;34m\u001b[0m\u001b[0m\n\u001b[1;32m   1380\u001b[0m                     \u001b[0;32mif\u001b[0m \u001b[0mtrace\u001b[0m\u001b[0;34m.\u001b[0m\u001b[0msupports_sampler_stats\u001b[0m \u001b[0;32mand\u001b[0m \u001b[0mdraw\u001b[0m\u001b[0;34m.\u001b[0m\u001b[0mstats\u001b[0m \u001b[0;32mis\u001b[0m \u001b[0;32mnot\u001b[0m \u001b[0;32mNone\u001b[0m\u001b[0;34m:\u001b[0m\u001b[0;34m\u001b[0m\u001b[0;34m\u001b[0m\u001b[0m\n",
      "\u001b[0;32m~/projects/pymc3/pymc3/parallel_sampling.py\u001b[0m in \u001b[0;36m__iter__\u001b[0;34m(self)\u001b[0m\n\u001b[1;32m    410\u001b[0m \u001b[0;34m\u001b[0m\u001b[0m\n\u001b[1;32m    411\u001b[0m         \u001b[0;32mwhile\u001b[0m \u001b[0mself\u001b[0m\u001b[0;34m.\u001b[0m\u001b[0m_active\u001b[0m\u001b[0;34m:\u001b[0m\u001b[0;34m\u001b[0m\u001b[0;34m\u001b[0m\u001b[0m\n\u001b[0;32m--> 412\u001b[0;31m             \u001b[0mdraw\u001b[0m \u001b[0;34m=\u001b[0m \u001b[0mProcessAdapter\u001b[0m\u001b[0;34m.\u001b[0m\u001b[0mrecv_draw\u001b[0m\u001b[0;34m(\u001b[0m\u001b[0mself\u001b[0m\u001b[0;34m.\u001b[0m\u001b[0m_active\u001b[0m\u001b[0;34m)\u001b[0m\u001b[0;34m\u001b[0m\u001b[0;34m\u001b[0m\u001b[0m\n\u001b[0m\u001b[1;32m    413\u001b[0m             \u001b[0mproc\u001b[0m\u001b[0;34m,\u001b[0m \u001b[0mis_last\u001b[0m\u001b[0;34m,\u001b[0m \u001b[0mdraw\u001b[0m\u001b[0;34m,\u001b[0m \u001b[0mtuning\u001b[0m\u001b[0;34m,\u001b[0m \u001b[0mstats\u001b[0m\u001b[0;34m,\u001b[0m \u001b[0mwarns\u001b[0m \u001b[0;34m=\u001b[0m \u001b[0mdraw\u001b[0m\u001b[0;34m\u001b[0m\u001b[0;34m\u001b[0m\u001b[0m\n\u001b[1;32m    414\u001b[0m             \u001b[0mself\u001b[0m\u001b[0;34m.\u001b[0m\u001b[0m_total_draws\u001b[0m \u001b[0;34m+=\u001b[0m \u001b[0;36m1\u001b[0m\u001b[0;34m\u001b[0m\u001b[0;34m\u001b[0m\u001b[0m\n",
      "\u001b[0;32m~/projects/pymc3/pymc3/parallel_sampling.py\u001b[0m in \u001b[0;36mrecv_draw\u001b[0;34m(processes, timeout)\u001b[0m\n\u001b[1;32m    312\u001b[0m             \u001b[0;32melse\u001b[0m\u001b[0;34m:\u001b[0m\u001b[0;34m\u001b[0m\u001b[0;34m\u001b[0m\u001b[0m\n\u001b[1;32m    313\u001b[0m                 \u001b[0merror\u001b[0m \u001b[0;34m=\u001b[0m \u001b[0mRuntimeError\u001b[0m\u001b[0;34m(\u001b[0m\u001b[0;34m\"Chain %s failed.\"\u001b[0m \u001b[0;34m%\u001b[0m \u001b[0mproc\u001b[0m\u001b[0;34m.\u001b[0m\u001b[0mchain\u001b[0m\u001b[0;34m)\u001b[0m\u001b[0;34m\u001b[0m\u001b[0;34m\u001b[0m\u001b[0m\n\u001b[0;32m--> 314\u001b[0;31m             \u001b[0;32mraise\u001b[0m \u001b[0merror\u001b[0m \u001b[0;32mfrom\u001b[0m \u001b[0mold_error\u001b[0m\u001b[0;34m\u001b[0m\u001b[0;34m\u001b[0m\u001b[0m\n\u001b[0m\u001b[1;32m    315\u001b[0m         \u001b[0;32melif\u001b[0m \u001b[0mmsg\u001b[0m\u001b[0;34m[\u001b[0m\u001b[0;36m0\u001b[0m\u001b[0;34m]\u001b[0m \u001b[0;34m==\u001b[0m \u001b[0;34m\"writing_done\"\u001b[0m\u001b[0;34m:\u001b[0m\u001b[0;34m\u001b[0m\u001b[0;34m\u001b[0m\u001b[0m\n\u001b[1;32m    316\u001b[0m             \u001b[0mproc\u001b[0m\u001b[0;34m.\u001b[0m\u001b[0m_readable\u001b[0m \u001b[0;34m=\u001b[0m \u001b[0;32mTrue\u001b[0m\u001b[0;34m\u001b[0m\u001b[0;34m\u001b[0m\u001b[0m\n",
      "\u001b[0;31mRuntimeError\u001b[0m: Chain 1 failed."
     ]
    }
   ],
   "source": [
    "# Set up finest model and perform inference with PyMC3, using the MLDA algorithm\n",
    "# and passing the coarse_models list created above.\n",
    "method_names = []\n",
    "traces = []\n",
    "runtimes = []\n",
    "acc = []\n",
    "ess = []\n",
    "ess_n = []\n",
    "performances = []\n",
    "\n",
    "with pm.Model():\n",
    "    \n",
    "    # Uniform priors on parameters\n",
    "    parameters = []\n",
    "    BoundedNormal = pm.Normal\n",
    "        \n",
    "    parameters.append(BoundedNormal('P0', mu=10.0, sd=0.1))\n",
    "    parameters.append(BoundedNormal('Q0', mu=5.0, sd=1.))\n",
    "    parameters.append(BoundedNormal('a', mu=1.0, sd=0.1))\n",
    "    parameters.append(BoundedNormal('b', mu=0.1, sd=0.1))\n",
    "    parameters.append(BoundedNormal('c', mu=1.5, sd=0.1))\n",
    "    parameters.append(BoundedNormal('d', mu=1.0, sd=0.2))\n",
    "\n",
    "    # Convert m and c to a tensor vector\n",
    "    theta = tt.as_tensor_variable(parameters)\n",
    "\n",
    "    # use a DensityDist (use a lamdba function to \"call\" the Op)\n",
    "    pm.DensityDist('likelihood', lambda v: logl[-1](v), observed={'v': theta})\n",
    "    \n",
    "    # Find Map\n",
    "    \n",
    "    approxMap = None #pm.find_MAP()\n",
    "\n",
    "    # Initialise an MLDA step method object, passing the subsampling rate and\n",
    "    # coarse models list\n",
    "    # Also initialise a Metropolis step method object\n",
    "    #step_metropolis = pm.Metropolis(tune=tune, tune_interval=tune_interval, blocked=blocked, start = approxMap)\n",
    "    \n",
    "    step_mlda = pm.MLDA(subsampling_rates=nsub, coarse_models=coarse_models,\n",
    "                        tune=tune, tune_interval=tune_interval, base_blocked=blocked, start = approxMap)\n",
    "    \n",
    "\n",
    "    # Inference!\n",
    "    # Metropolis\n",
    "    '''\n",
    "    t_start = time.time()\n",
    "    method_names.append(\"Metropolis\")\n",
    "    traces.append(pm.sample(draws=ndraws, step=step_metropolis,\n",
    "                            chains=nchains, tune=nburn,\n",
    "                            discard_tuned_samples=discard_tuning,\n",
    "                            random_seed=sampling_seed))\n",
    "    runtimes.append(time.time() - t_start)\n",
    "    '''\n",
    "    # MLDA\n",
    "    t_start = time.time()\n",
    "    method_names.append(\"MLDA\")\n",
    "    traces.append(pm.sample(draws=ndraws, step=step_mlda,\n",
    "                            chains=nchains, tune=nburn,\n",
    "                            discard_tuned_samples=discard_tuning,\n",
    "                            random_seed=sampling_seed))\n",
    "    runtimes.append(time.time() - t_start)\n",
    "    "
   ]
  },
  {
   "cell_type": "code",
   "execution_count": null,
   "metadata": {},
   "outputs": [],
   "source": [
    "for i, trace in enumerate(traces):\n",
    "    acc.append(trace.get_sampler_stats('accepted').mean())\n",
    "    ess.append(np.array(pm.ess(trace).to_array()))\n",
    "    ess_n.append(ess[i] / len(trace) / trace.nchains)\n",
    "    performances.append(ess[i] / runtimes[i])\n",
    "    print(f'\\nSampler {method_names[i]}: {len(trace)} drawn samples in each of '\n",
    "          f'{trace.nchains} chains.'\n",
    "          f'\\nRuntime: {runtimes[i]} seconds'\n",
    "          f'\\nAcceptance rate: {acc[i]}'\n",
    "          f'\\nESS list: {ess[i]}'\n",
    "          f'\\nNormalised ESS list: {ess_n[i]}'\n",
    "          f'\\nESS/sec: {performances[i]}')"
   ]
  },
  {
   "cell_type": "code",
   "execution_count": null,
   "metadata": {},
   "outputs": [],
   "source": [
    "# Print true theta values and pymc3 sampling summary\n",
    "for i, trace in enumerate(traces):\n",
    "    pm.plots.traceplot(trace)"
   ]
  },
  {
   "cell_type": "code",
   "execution_count": null,
   "metadata": {},
   "outputs": [],
   "source": [
    "\n",
    "\n",
    "print(approxMap)"
   ]
  },
  {
   "cell_type": "code",
   "execution_count": null,
   "metadata": {},
   "outputs": [],
   "source": []
  }
 ],
 "metadata": {
  "kernelspec": {
   "display_name": "Python 3",
   "language": "python",
   "name": "python3"
  },
  "language_info": {
   "codemirror_mode": {
    "name": "ipython",
    "version": 3
   },
   "file_extension": ".py",
   "mimetype": "text/x-python",
   "name": "python",
   "nbconvert_exporter": "python",
   "pygments_lexer": "ipython3",
   "version": "3.6.7"
  }
 },
 "nbformat": 4,
 "nbformat_minor": 4
}
