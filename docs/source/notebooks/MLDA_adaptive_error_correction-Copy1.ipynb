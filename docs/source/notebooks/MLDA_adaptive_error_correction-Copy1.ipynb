{
 "cells": [
  {
   "cell_type": "markdown",
   "metadata": {},
   "source": [
    "# Adaptive Error Correction in MLDA"
   ]
  },
  {
   "cell_type": "markdown",
   "metadata": {},
   "source": [
    "### Intro\n",
    "This notebook (along with the utility code within the `./mlda` folder) is designed to demonstrate the adaptive error correction feature of the Multi-Level Delayed Acceptance MCMC algorithm (MLDA) in PyMC3. The MLDA algorithm was proposed in [1], while the error correction feature has been taken from [2]. \n",
    "\n",
    "The MLDA sampler can be more efficient than other MCMC samplers when dealing with computationally intensive problems where we have access not only to the desired (fine) posterior distribution but also to a set of approximate (coarse) posteriors of decreasing accuracy and decreasing computational cost (for more details look at the notebook `./MLDA_multilevel_groundwater_flow.ipynb`).\n",
    "\n",
    "For more details about the MLDA sampler and the way it should be used and parameterised, the user can refer to the notebook above, as well as the docstrings within the python code (the implementation is under `pymc3/pymc3/step_methods/metropolis.py`). A version of this code in `.py` form can be found under `./mlda`.\n",
    "\n",
    "Please note that the MLDA sampler is new in pymc3. The user should be extra critical about the results and report any problems as issues in the pymc3's github repository.\n",
    "\n",
    "The notebook results shown below were generated on a MacBook Pro with a 2.6 GHz 6-core Intel Core i7, 32 GB DDR4 and macOS 10.15.5.\n",
    "\n",
    "### Adaptive Error Correction\n",
    "The idea of Adaptive Error Correction (AEC) is to estimate the bias and variance of the forward-model error between successive levels. We then use those estimates to correct for the error. This helps smooth the differences between levels and thus allows more successful proposals from a level to the one above. Using the technique should improve ESS/sec on the fine level. \n",
    "\n",
    "For more details about the method, please refer to section 3.2 of [2]. We have implemented Algorithm 4 without the adaptation in the base chain (although this will be added in the future). Also, we do the recursive mean and covariance calculation not according to equation (8) of [2] but according to equation (3) of [3] (which has been tested to work correctly in simulations).\n",
    "\n",
    "The method assumes that the error between successive forward model outputs is normal-distributed and that the error introduced by the modelling process is also normal. This allows the method to work as described in the paper. In order to use AEC with a non-normal model, modification to the MCMC internals and the model description template would be needed. \n",
    "\n",
    "### The model and PDE solver details\n",
    "Please refer to `./MLDA_multilevel_groundwater_flow.ipynb` for more details.\n",
    "\n",
    "### Dependencies\n",
    "The code has been developed and tested with Python 3.6. You will need to have pymc3 installed and also install [FEniCS](https://fenicsproject.org/) for your system.\n",
    "  \n",
    "\n",
    "### References\n",
    "[1] Dodwell, Tim & Ketelsen, Chris & Scheichl, Robert & Teckentrup, Aretha. (2019). Multilevel Markov Chain Monte Carlo. SIAM Review. 61. 509-545. https://doi.org/10.1137/19M126966X\n",
    "\n",
    "[2] Cui, Tiangang & Fox, Colin & O'Sullivan, Michael. (2012). Adaptive Error Modelling in MCMC Sampling for Large Scale Inverse Problems.\n",
    "\n",
    "[3] Haario, Heikki; Saksman, Eero; Tamminen, Johanna. An adaptive Metropolis algorithm. Bernoulli 7 (2001), no. 2, 223--242. https://projecteuclid.org/euclid.bj/1080222083"
   ]
  },
  {
   "cell_type": "markdown",
   "metadata": {},
   "source": [
    "### Import modules"
   ]
  },
  {
   "cell_type": "code",
   "execution_count": 1,
   "metadata": {},
   "outputs": [],
   "source": [
    "# Import groundwater flow model utils\n",
    "import sys\n",
    "sys.path.insert(1, 'mlda/')"
   ]
  },
  {
   "cell_type": "code",
   "execution_count": 2,
   "metadata": {
    "scrolled": true
   },
   "outputs": [],
   "source": [
    "import os\n",
    "import numpy as np\n",
    "import time\n",
    "import pymc3 as pm\n",
    "import theano.tensor as tt\n",
    "from Model import Model, model_wrapper, project_eigenpairs\n",
    "from itertools import product\n",
    "import matplotlib.pyplot as plt\n",
    "os.environ['OPENBLAS_NUM_THREADS'] = '1'  # Set environmental variable\n",
    "%matplotlib inline"
   ]
  },
  {
   "cell_type": "markdown",
   "metadata": {},
   "source": [
    "### Set parameters"
   ]
  },
  {
   "cell_type": "code",
   "execution_count": 3,
   "metadata": {},
   "outputs": [],
   "source": [
    "# Set the resolution of the multi-level models (from coarsest to finest)\n",
    "# This is a list of different model resolutions. Each\n",
    "# resolution added to the list will add one level to the multi-level\n",
    "# inference. Each element is a tuple (x,y) where x, y are the number of \n",
    "# points in each dimension. For example, here we set resolutions = \n",
    "# [(30, 30), (120, 120)] which creates a coarse, cheap 30x30 model and \n",
    "# a fine, expensive 120x120 model.\n",
    "resolutions = [(4, 4), (20, 20), (80, 80)]\n",
    "\n",
    "# Set random field parameters\n",
    "field_mean = 0\n",
    "field_stdev = 1\n",
    "lamb_cov = 0.1\n",
    "\n",
    "# Set the number of unknown parameters (i.e. dimension of theta in posterior)\n",
    "nparam = 8\n",
    "\n",
    "# Number of draws from the distribution\n",
    "ndraws = 20000\n",
    "\n",
    "# Number of burn-in samples\n",
    "nburn = 10000\n",
    "\n",
    "# MLDA and Metropolis tuning parameters\n",
    "tune = True\n",
    "tune_interval = 100\n",
    "discard_tuning = True\n",
    "\n",
    "# Number of independent chains\n",
    "nchains = 4\n",
    "\n",
    "# Subsampling rate for MLDA\n",
    "nsub = 10\n",
    "\n",
    "# Do blocked/compounds sampling in Metropolis and MLDA \n",
    "# Note: This choice applies only to the coarsest level in MLDA \n",
    "# (where a Metropolis sampler is used), all other levels use block sampling\n",
    "blocked = False\n",
    "\n",
    "# Set the sigma for inference\n",
    "sigma = 0.01\n",
    "\n",
    "# Data generation seed\n",
    "data_seed = 12345\n",
    "\n",
    "# Sampling seed\n",
    "sampling_seed = 12345\n",
    "\n",
    "# Datapoints list\n",
    "points_list = [0.1, 0.3, 0.5, 0.7, 0.9]"
   ]
  },
  {
   "cell_type": "markdown",
   "metadata": {},
   "source": [
    "### Define the forward model using a Theano Op\n",
    "Inside the Op, we make use of the Data class of PyMC3 to pass the forward model output to the PyMC3 model (stored in variable `model_output`). Doing this gives the MLDA sampler access to the model output. The user needs to include this storage operation to `model_output` in the Op if they want to use adaptive error correction. "
   ]
  },
  {
   "cell_type": "code",
   "execution_count": 4,
   "metadata": {},
   "outputs": [],
   "source": [
    "class ForwardModel(tt.Op):\n",
    "    \"\"\"\n",
    "    Theano Op that wraps the forward model computation,\n",
    "    necessary to pass \"black-box\" fenics code into pymc3.    \n",
    "    \"\"\"\n",
    "\n",
    "    # Specify what type of object will be passed and returned to the Op when it is\n",
    "    # called. In our case we will be passing it a vector of values (the parameters\n",
    "    # that define our model) and returning a vector of model outputs\n",
    "    itypes = [tt.dvector]  # expects a vector of parameter values (theta)\n",
    "    otypes = [tt.dvector]  # outputs a vector of model outputs\n",
    "\n",
    "    def __init__(self, my_model, x, pymc3_model):\n",
    "        \"\"\"\n",
    "        Initialise the Op with various things that our forward model function\n",
    "        requires.\n",
    "\n",
    "        Parameters\n",
    "        ----------\n",
    "        my_model:\n",
    "            A Model object (defined in file model.py) that contains the parameters\n",
    "            and functions of our model.\n",
    "        x:\n",
    "            The dependent variable (aka 'x') that our model requires. This is\n",
    "            the datapoints in this example.\n",
    "        pymc3:\n",
    "            The PyMC3 model being used.\n",
    "        \"\"\"\n",
    "        # add inputs as class attributes\n",
    "        self.my_model = my_model\n",
    "        self.x = x\n",
    "        self.pymc3_model = pymc3_model\n",
    "\n",
    "    def perform(self, node, inputs, outputs):\n",
    "        # the method that is used when calling the Op\n",
    "        theta = inputs[0]  # this will contain my variables\n",
    "\n",
    "        # call the forward model function\n",
    "        temp = model_wrapper(self.my_model, theta, self.x)\n",
    "        \n",
    "        # NOTE: These two lines need to be included in the perform() function is you want to use AEC\n",
    "        # save the forward model output to a data variable (`model_output`) within the pymc3 model\n",
    "        # this allows PyMC3 to access the value during sampling\n",
    "        self.pymc3_model.model_output.set_value(temp)\n",
    "            \n",
    "        # write to output\n",
    "        outputs[0][0] = temp\n"
   ]
  },
  {
   "cell_type": "markdown",
   "metadata": {},
   "source": [
    "### Instantiate Model objects and data"
   ]
  },
  {
   "cell_type": "code",
   "execution_count": 5,
   "metadata": {},
   "outputs": [],
   "source": [
    "# Note this can take several minutes for large resolutions\n",
    "my_models = []\n",
    "for r in resolutions:\n",
    "    my_models.append(Model(r, field_mean, field_stdev, nparam, lamb_cov))\n",
    "\n",
    "# Project eignevactors from fine model to all coarse models\n",
    "for i in range(len(my_models[:-1])):\n",
    "    project_eigenpairs(my_models[-1], my_models[i])"
   ]
  },
  {
   "cell_type": "code",
   "execution_count": 6,
   "metadata": {},
   "outputs": [
    {
     "data": {
      "image/png": "[encoded data removed]",
      "text/plain": [
       "<Figure size 1728x648 with 4 Axes>"
      ]
     },
     "metadata": {
      "needs_background": "light"
     },
     "output_type": "display_data"
    }
   ],
   "source": [
    "# Solve finest model as a test and plot transmissivity field and solution\n",
    "np.random.seed(data_seed)\n",
    "my_models[-1].solve()\n",
    "my_models[-1].plot(lognormal=False)\n",
    "\n",
    "# Save true parameters of finest model\n",
    "true_parameters = my_models[-1].random_process.parameters"
   ]
  },
  {
   "cell_type": "code",
   "execution_count": 7,
   "metadata": {},
   "outputs": [],
   "source": [
    "# Define the sampling points.\n",
    "x_data = y_data = np.array(points_list)\n",
    "datapoints = np.array(list(product(x_data, y_data)))\n",
    "\n",
    "# Get data from the sampling points and perturb it with some noise.\n",
    "noise = np.random.normal(0, 0.001, len(datapoints))\n",
    "\n",
    "# Generate data from the finest model for use in pymc3 inference - these data are used in all levels\n",
    "data = model_wrapper(my_models[-1], true_parameters, datapoints) + noise\n",
    "\n",
    "# Create covariance matrix of normal error - it is a diagonal matrix\n",
    "s = np.identity(len(data))\n",
    "np.fill_diagonal(s, sigma**2)"
   ]
  },
  {
   "cell_type": "markdown",
   "metadata": {},
   "source": [
    "### Instantiate LogLik objects"
   ]
  },
  {
   "cell_type": "code",
   "execution_count": 8,
   "metadata": {},
   "outputs": [],
   "source": [
    "# create Theano Ops to wrap forward models of all model levels and store them in list\n",
    "mout = []"
   ]
  },
  {
   "cell_type": "markdown",
   "metadata": {},
   "source": [
    "### Construct pymc3 model objects for coarse models"
   ]
  },
  {
   "cell_type": "code",
   "execution_count": 9,
   "metadata": {},
   "outputs": [],
   "source": [
    "# Set up models in pymc3 for each level - excluding finest model level\n",
    "coarse_models = []\n",
    "for j in range(len(my_models) - 1):\n",
    "    with pm.Model() as model:\n",
    "        # mu_B and Sigma_B are the mean and covariance of the bias\n",
    "        # between this forward model and the model one level below. The bias is due\n",
    "        # to different levels of coarseness, i.e. resolutions.\n",
    "        # Both are initialised with zeros.\n",
    "        # These will be updated in each iteration of this level's chain\n",
    "        mu_B = pm.Data('mu_B', np.zeros(len(data)))\n",
    "        Sigma_B = pm.Data('Sigma_B', np.zeros((len(data), len(data))))\n",
    "        \n",
    "        # This will be used to store the output of the forward model produced by the Op\n",
    "        # The user needs to save the model output to this variable inside the \n",
    "        # perform() method of the Op\n",
    "        model_output = pm.Data('model_output', np.zeros(len(data)))\n",
    "\n",
    "        # Sigma_e is the covariance of the assumed error 'e' in the model.\n",
    "        # This error is due to measurement noise/bias vs. the real world\n",
    "        Sigma_e = pm.Data('Sigma_e', s)\n",
    "\n",
    "        # uniform priors on unknown parameters\n",
    "        parameters = []\n",
    "        for i in range(nparam):\n",
    "            parameters.append(pm.Uniform('theta_' + str(i), lower=-3., upper=3.))\n",
    "\n",
    "        # convert thetas to a tensor vector\n",
    "        theta = tt.as_tensor_variable(parameters)\n",
    "\n",
    "        # Here we instatiate a ForwardModel and pass the model as argument\n",
    "        mout.append(ForwardModel(my_models[j], datapoints, model))\n",
    "        \n",
    "        # Output is an intermediate variable for convenience\n",
    "        #output = pm.Potential('output', mout[j](theta))\n",
    "\n",
    "        # The distribution of the error 'e' (assumed error of the forward model)\n",
    "        # This is multi-variate normal where:\n",
    "        # - the mean is equal to the forward model output plus the bias correction term mu_B\n",
    "        # - the covariance is equal to the forward model covariance Sigma_e plus the bias correction term Sigma_B\n",
    "        # This creates the likelihood of the model given the observed data\n",
    "        pm.MvNormal('e', mu=mout[j](theta) + mu_B, cov=Sigma_e + Sigma_B, observed=data)\n",
    "\n",
    "    coarse_models.append(model)"
   ]
  },
  {
   "cell_type": "markdown",
   "metadata": {},
   "source": [
    "### Perform inference using MLDA (without AEC)\n",
    "Here we sample from the posterior using MLDA without AEC"
   ]
  },
  {
   "cell_type": "code",
   "execution_count": 10,
   "metadata": {
    "scrolled": false
   },
   "outputs": [
    {
     "name": "stderr",
     "output_type": "stream",
     "text": [
      "/Users/gmingas/projects/pymc3/pymc3/step_methods/metropolis.py:1060: UserWarning: The MLDA implementation in PyMC3 is very young. You should be extra critical about its results.\n",
      "  'The MLDA implementation in PyMC3 is very young. '\n",
      "/Users/gmingas/projects/pymc3/pymc3/step_methods/metropolis.py:1060: UserWarning: The MLDA implementation in PyMC3 is very young. You should be extra critical about its results.\n",
      "  'The MLDA implementation in PyMC3 is very young. '\n",
      "Sequential sampling (4 chains in 1 job)\n",
      "MLDA: [theta_7, theta_6, theta_5, theta_4, theta_3, theta_2, theta_1, theta_0]\n"
     ]
    },
    {
     "data": {
      "text/html": [
       "\n",
       "    <div>\n",
       "        <style>\n",
       "            /* Turns off some styling */\n",
       "            progress {\n",
       "                /* gets rid of default border in Firefox and Opera. */\n",
       "                border: none;\n",
       "                /* Needs to be in here for Safari polyfill so background images work as expected. */\n",
       "                background-size: auto;\n",
       "            }\n",
       "            .progress-bar-interrupted, .progress-bar-interrupted::-webkit-progress-bar {\n",
       "                background: #F44336;\n",
       "            }\n",
       "        </style>\n",
       "      <progress value='30000' class='' max='30000' style='width:300px; height:20px; vertical-align: middle;'></progress>\n",
       "      100.00% [30000/30000 1:10:35<00:00 Sampling chain 0, 0 divergences]\n",
       "    </div>\n",
       "    "
      ],
      "text/plain": [
       "<IPython.core.display.HTML object>"
      ]
     },
     "metadata": {},
     "output_type": "display_data"
    },
    {
     "data": {
      "text/html": [
       "\n",
       "    <div>\n",
       "        <style>\n",
       "            /* Turns off some styling */\n",
       "            progress {\n",
       "                /* gets rid of default border in Firefox and Opera. */\n",
       "                border: none;\n",
       "                /* Needs to be in here for Safari polyfill so background images work as expected. */\n",
       "                background-size: auto;\n",
       "            }\n",
       "            .progress-bar-interrupted, .progress-bar-interrupted::-webkit-progress-bar {\n",
       "                background: #F44336;\n",
       "            }\n",
       "        </style>\n",
       "      <progress value='30000' class='' max='30000' style='width:300px; height:20px; vertical-align: middle;'></progress>\n",
       "      100.00% [30000/30000 2:26:09<00:00 Sampling chain 1, 0 divergences]\n",
       "    </div>\n",
       "    "
      ],
      "text/plain": [
       "<IPython.core.display.HTML object>"
      ]
     },
     "metadata": {},
     "output_type": "display_data"
    },
    {
     "data": {
      "text/html": [
       "\n",
       "    <div>\n",
       "        <style>\n",
       "            /* Turns off some styling */\n",
       "            progress {\n",
       "                /* gets rid of default border in Firefox and Opera. */\n",
       "                border: none;\n",
       "                /* Needs to be in here for Safari polyfill so background images work as expected. */\n",
       "                background-size: auto;\n",
       "            }\n",
       "            .progress-bar-interrupted, .progress-bar-interrupted::-webkit-progress-bar {\n",
       "                background: #F44336;\n",
       "            }\n",
       "        </style>\n",
       "      <progress value='30000' class='' max='30000' style='width:300px; height:20px; vertical-align: middle;'></progress>\n",
       "      100.00% [30000/30000 3:53:17<00:00 Sampling chain 2, 0 divergences]\n",
       "    </div>\n",
       "    "
      ],
      "text/plain": [
       "<IPython.core.display.HTML object>"
      ]
     },
     "metadata": {},
     "output_type": "display_data"
    },
    {
     "data": {
      "text/html": [
       "\n",
       "    <div>\n",
       "        <style>\n",
       "            /* Turns off some styling */\n",
       "            progress {\n",
       "                /* gets rid of default border in Firefox and Opera. */\n",
       "                border: none;\n",
       "                /* Needs to be in here for Safari polyfill so background images work as expected. */\n",
       "                background-size: auto;\n",
       "            }\n",
       "            .progress-bar-interrupted, .progress-bar-interrupted::-webkit-progress-bar {\n",
       "                background: #F44336;\n",
       "            }\n",
       "        </style>\n",
       "      <progress value='30000' class='' max='30000' style='width:300px; height:20px; vertical-align: middle;'></progress>\n",
       "      100.00% [30000/30000 5:09:32<00:00 Sampling chain 3, 0 divergences]\n",
       "    </div>\n",
       "    "
      ],
      "text/plain": [
       "<IPython.core.display.HTML object>"
      ]
     },
     "metadata": {},
     "output_type": "display_data"
    },
    {
     "name": "stderr",
     "output_type": "stream",
     "text": [
      "The rhat statistic is larger than 1.4 for some parameters. The sampler did not converge.\n",
      "The estimated number of effective samples is smaller than 200 for some parameters.\n"
     ]
    }
   ],
   "source": [
    "# Set up finest model and perform inference with PyMC3, using the MLDA algorithm\n",
    "# and passing the coarse_models list created above.\n",
    "method_names = []\n",
    "traces = []\n",
    "runtimes = []\n",
    "acc = []\n",
    "ess = []\n",
    "ess_n = []\n",
    "performances = []\n",
    "\n",
    "with pm.Model() as fine_model:\n",
    "    # This will be used to store the output of the forward model produced by the Op\n",
    "    # The user needs to save the model output to this variable inside the \n",
    "    # perform() method of the Op\n",
    "    model_output = pm.Data('model_output', np.zeros(len(data)))\n",
    "\n",
    "    # Sigma_e is the covariance of the assumed error 'e' in the model.\n",
    "    # This error is due to measurement noise/bias vs. the real world\n",
    "    Sigma_e = pm.Data('Sigma_e', s)\n",
    "\n",
    "    # uniform priors on unknown parameters\n",
    "    parameters = []\n",
    "    for i in range(nparam):\n",
    "        parameters.append(pm.Uniform('theta_' + str(i), lower=-3., upper=3.))\n",
    "\n",
    "    # convert thetas to a tensor vector\n",
    "    theta = tt.as_tensor_variable(parameters)\n",
    "\n",
    "    # Here we instatiate a ForwardModel and pass the model as argument\n",
    "    mout.append(ForwardModel(my_models[-1], datapoints, fine_model))\n",
    "    \n",
    "    # Output is an intermediate variable for convenience\n",
    "    #output = pm.Potential('output', mout[-1](theta))\n",
    "\n",
    "    # The distribution of the error 'e' (assumed error of the forward model)\n",
    "    pm.MvNormal('e', mu=mout[-1](theta), cov=Sigma_e, observed=data)\n",
    "\n",
    "    # Initialise an MLDA step method object, passing the subsampling rate and\n",
    "    # coarse models list\n",
    "    step_mlda_without = pm.MLDA(subsampling_rate=nsub, coarse_models=coarse_models,\n",
    "                                tune=tune, tune_interval=tune_interval, base_blocked=blocked,\n",
    "                                adaptive_error_correction=False)    \n",
    "\n",
    "    # Inference!    \n",
    "    # MLDA without adaptive error correction\n",
    "    t_start = time.time()\n",
    "    method_names.append(\"MLDA_without_aec\")\n",
    "    traces.append(pm.sample(draws=ndraws, step=step_mlda_without,\n",
    "                            chains=nchains, tune=nburn,\n",
    "                            discard_tuned_samples=discard_tuning,\n",
    "                            random_seed=sampling_seed,\n",
    "                           cores=1))\n",
    "    runtimes.append(time.time() - t_start)"
   ]
  },
  {
   "cell_type": "markdown",
   "metadata": {},
   "source": [
    "### Instantiate LogLik objects"
   ]
  },
  {
   "cell_type": "code",
   "execution_count": 11,
   "metadata": {},
   "outputs": [],
   "source": [
    "# create Theano Ops to wrap forward models of all model levels and store them in list\n",
    "mout = []"
   ]
  },
  {
   "cell_type": "markdown",
   "metadata": {},
   "source": [
    "### Construct pymc3 model objects for coarse models"
   ]
  },
  {
   "cell_type": "code",
   "execution_count": 12,
   "metadata": {},
   "outputs": [],
   "source": [
    "# Set up models in pymc3 for each level - excluding finest model level\n",
    "coarse_models = []\n",
    "for j in range(len(my_models) - 1):\n",
    "    with pm.Model() as model:\n",
    "        # mu_B and Sigma_B are the mean and covariance of the bias\n",
    "        # between this forward model and the model one level below. The bias is due\n",
    "        # to different levels of coarseness, i.e. resolutions.\n",
    "        # Both are initialised with zeros.\n",
    "        # These will be updated in each iteration of this level's chain\n",
    "        mu_B = pm.Data('mu_B', np.zeros(len(data)))\n",
    "        Sigma_B = pm.Data('Sigma_B', np.zeros((len(data), len(data))))\n",
    "        \n",
    "        # This will be used to store the output of the forward model produced by the Op\n",
    "        # The user needs to save the model output to this variable inside the \n",
    "        # perform() method of the Op\n",
    "        model_output = pm.Data('model_output', np.zeros(len(data)))\n",
    "\n",
    "        # Sigma_e is the covariance of the assumed error 'e' in the model.\n",
    "        # This error is due to measurement noise/bias vs. the real world\n",
    "        Sigma_e = pm.Data('Sigma_e', s)\n",
    "\n",
    "        # uniform priors on unknown parameters\n",
    "        parameters = []\n",
    "        for i in range(nparam):\n",
    "            parameters.append(pm.Uniform('theta_' + str(i), lower=-3., upper=3.))\n",
    "\n",
    "        # convert thetas to a tensor vector\n",
    "        theta = tt.as_tensor_variable(parameters)\n",
    "\n",
    "        # Here we instatiate a ForwardModel and pass the model as argument\n",
    "        mout.append(ForwardModel(my_models[j], datapoints, model))\n",
    "        \n",
    "        # Output is an intermediate variable for convenience\n",
    "        #output = pm.Potential('output', mout[j](theta))\n",
    "\n",
    "        # The distribution of the error 'e' (assumed error of the forward model)\n",
    "        # This is multi-variate normal where:\n",
    "        # - the mean is equal to the forward model output plus the bias correction term mu_B\n",
    "        # - the covariance is equal to the forward model covariance Sigma_e plus the bias correction term Sigma_B\n",
    "        # This creates the likelihood of the model given the observed data\n",
    "        pm.MvNormal('e', mu=mout[j](theta) + mu_B, cov=Sigma_e + Sigma_B, observed=data)\n",
    "\n",
    "    coarse_models.append(model)"
   ]
  },
  {
   "cell_type": "markdown",
   "metadata": {},
   "source": [
    "### Perform inference using MLDA with AEC\n",
    "Here we sample from the posterior using MLDA with AEC"
   ]
  },
  {
   "cell_type": "code",
   "execution_count": null,
   "metadata": {
    "scrolled": false
   },
   "outputs": [
    {
     "name": "stderr",
     "output_type": "stream",
     "text": [
      "/Users/gmingas/projects/pymc3/pymc3/step_methods/metropolis.py:1060: UserWarning: The MLDA implementation in PyMC3 is very young. You should be extra critical about its results.\n",
      "  'The MLDA implementation in PyMC3 is very young. '\n"
     ]
    },
    {
     "data": {
      "text/html": [
       "\n",
       "    <div>\n",
       "        <style>\n",
       "            /* Turns off some styling */\n",
       "            progress {\n",
       "                /* gets rid of default border in Firefox and Opera. */\n",
       "                border: none;\n",
       "                /* Needs to be in here for Safari polyfill so background images work as expected. */\n",
       "                background-size: auto;\n",
       "            }\n",
       "            .progress-bar-interrupted, .progress-bar-interrupted::-webkit-progress-bar {\n",
       "                background: #F44336;\n",
       "            }\n",
       "        </style>\n",
       "      <progress value='30000' class='' max='30000' style='width:300px; height:20px; vertical-align: middle;'></progress>\n",
       "      100.00% [30000/30000 1:19:55<00:00 Sampling chain 0, 0 divergences]\n",
       "    </div>\n",
       "    "
      ],
      "text/plain": [
       "<IPython.core.display.HTML object>"
      ]
     },
     "metadata": {},
     "output_type": "display_data"
    },
    {
     "data": {
      "text/html": [
       "\n",
       "    <div>\n",
       "        <style>\n",
       "            /* Turns off some styling */\n",
       "            progress {\n",
       "                /* gets rid of default border in Firefox and Opera. */\n",
       "                border: none;\n",
       "                /* Needs to be in here for Safari polyfill so background images work as expected. */\n",
       "                background-size: auto;\n",
       "            }\n",
       "            .progress-bar-interrupted, .progress-bar-interrupted::-webkit-progress-bar {\n",
       "                background: #F44336;\n",
       "            }\n",
       "        </style>\n",
       "      <progress value='30000' class='' max='30000' style='width:300px; height:20px; vertical-align: middle;'></progress>\n",
       "      100.00% [30000/30000 2:30:05<00:00 Sampling chain 1, 0 divergences]\n",
       "    </div>\n",
       "    "
      ],
      "text/plain": [
       "<IPython.core.display.HTML object>"
      ]
     },
     "metadata": {},
     "output_type": "display_data"
    },
    {
     "data": {
      "text/html": [
       "\n",
       "    <div>\n",
       "        <style>\n",
       "            /* Turns off some styling */\n",
       "            progress {\n",
       "                /* gets rid of default border in Firefox and Opera. */\n",
       "                border: none;\n",
       "                /* Needs to be in here for Safari polyfill so background images work as expected. */\n",
       "                background-size: auto;\n",
       "            }\n",
       "            .progress-bar-interrupted, .progress-bar-interrupted::-webkit-progress-bar {\n",
       "                background: #F44336;\n",
       "            }\n",
       "        </style>\n",
       "      <progress value='30000' class='' max='30000' style='width:300px; height:20px; vertical-align: middle;'></progress>\n",
       "      100.00% [30000/30000 4:04:35<00:00 Sampling chain 2, 0 divergences]\n",
       "    </div>\n",
       "    "
      ],
      "text/plain": [
       "<IPython.core.display.HTML object>"
      ]
     },
     "metadata": {},
     "output_type": "display_data"
    },
    {
     "data": {
      "text/html": [
       "\n",
       "    <div>\n",
       "        <style>\n",
       "            /* Turns off some styling */\n",
       "            progress {\n",
       "                /* gets rid of default border in Firefox and Opera. */\n",
       "                border: none;\n",
       "                /* Needs to be in here for Safari polyfill so background images work as expected. */\n",
       "                background-size: auto;\n",
       "            }\n",
       "            .progress-bar-interrupted, .progress-bar-interrupted::-webkit-progress-bar {\n",
       "                background: #F44336;\n",
       "            }\n",
       "        </style>\n",
       "      <progress value='3990' class='' max='30000' style='width:300px; height:20px; vertical-align: middle;'></progress>\n",
       "      13.30% [3990/30000 39:26<4:17:06 Sampling chain 3, 0 divergences]\n",
       "    </div>\n",
       "    "
      ],
      "text/plain": [
       "<IPython.core.display.HTML object>"
      ]
     },
     "metadata": {},
     "output_type": "display_data"
    }
   ],
   "source": [
    "# Set up finest model and perform inference with PyMC3, using the MLDA algorithm\n",
    "# and passing the coarse_models list created above.\n",
    "\n",
    "with pm.Model() as fine_model:\n",
    "    # This will be used to store the output of the forward model produced by the Op\n",
    "    # The user needs to save the model output to this variable inside the \n",
    "    # perform() method of the Op\n",
    "    model_output = pm.Data('model_output', np.zeros(len(data)))\n",
    "\n",
    "    # Sigma_e is the covariance of the assumed error 'e' in the model.\n",
    "    # This error is due to measurement noise/bias vs. the real world\n",
    "    Sigma_e = pm.Data('Sigma_e', s)\n",
    "\n",
    "    # uniform priors on unknown parameters\n",
    "    parameters = []\n",
    "    for i in range(nparam):\n",
    "        parameters.append(pm.Uniform('theta_' + str(i), lower=-3., upper=3.))\n",
    "\n",
    "    # convert thetas to a tensor vector\n",
    "    theta = tt.as_tensor_variable(parameters)\n",
    "\n",
    "    # Here we instatiate a ForwardModel and pass the model as argument\n",
    "    mout.append(ForwardModel(my_models[-1], datapoints, fine_model))\n",
    "    \n",
    "    # Output is an intermediate variable for convenience\n",
    "    #output = pm.Potential('output', mout[-1](theta))\n",
    "\n",
    "    # The distribution of the error 'e' (assumed error of the forward model)\n",
    "    pm.MvNormal('e', mu=mout[-1](theta), cov=Sigma_e, observed=data)\n",
    "\n",
    "    # Initialise an MLDA step method object, passing the subsampling rate and\n",
    "    # coarse models list    \n",
    "    step_mlda_with = pm.MLDA(subsampling_rate=nsub, coarse_models=coarse_models,\n",
    "                             tune=tune, tune_interval=tune_interval, base_blocked=blocked,\n",
    "                             adaptive_error_correction=True)\n",
    "\n",
    "    # Inference!    \n",
    "    # MLDA with adaptive error correction\n",
    "    t_start = time.time()\n",
    "    method_names.append(\"MLDA_with_aec\")\n",
    "    traces.append(pm.sample(draws=ndraws, step=step_mlda_with,\n",
    "                            chains=nchains, tune=nburn,\n",
    "                            discard_tuned_samples=discard_tuning,\n",
    "                            random_seed=sampling_seed,\n",
    "                           cores=1))\n",
    "    runtimes.append(time.time() - t_start)"
   ]
  },
  {
   "cell_type": "markdown",
   "metadata": {},
   "source": [
    "### Print performance metrics"
   ]
  },
  {
   "cell_type": "code",
   "execution_count": null,
   "metadata": {},
   "outputs": [],
   "source": [
    "import arviz as ar\n",
    "\n",
    "for i, trace in enumerate(traces):\n",
    "    acc.append(trace.get_sampler_stats('accepted').mean())\n",
    "    ess.append(np.array(ar.ess(trace).to_array()))\n",
    "    ess_n.append(ess[i] / len(trace) / trace.nchains)\n",
    "    performances.append(ess[i] / runtimes[i])\n",
    "    print(f'\\nSampler {method_names[i]}: {len(trace)} drawn samples in each of '\n",
    "          f'{trace.nchains} chains.'\n",
    "          f'\\nRuntime: {runtimes[i]} seconds'\n",
    "          f'\\nAcceptance rate: {acc[i]}'\n",
    "          f'\\nESS list: {ess[i]}'\n",
    "          f'\\nNormalised ESS list: {ess_n[i]}'\n",
    "          f'\\nESS/sec: {performances[i]}')"
   ]
  },
  {
   "cell_type": "code",
   "execution_count": null,
   "metadata": {},
   "outputs": [],
   "source": [
    "print(f\"\\nMLDA-AEC vs. MLDA performance speedup in all dimensions (performance measured by ES/sec):\\n{np.array(performances[1]) / np.array(performances[0])}\")"
   ]
  },
  {
   "cell_type": "markdown",
   "metadata": {},
   "source": [
    "### Show stats summary"
   ]
  },
  {
   "cell_type": "code",
   "execution_count": null,
   "metadata": {},
   "outputs": [],
   "source": [
    "print(f\"\\nDetailed summaries and plots:\\nTrue parameters: {true_parameters}\")\n",
    "for i, trace in enumerate(traces):\n",
    "    print(f\"\\nSampler {method_names[i]}:\\n\", pm.stats.summary(trace))"
   ]
  },
  {
   "cell_type": "markdown",
   "metadata": {},
   "source": [
    "### Show traceplots"
   ]
  },
  {
   "cell_type": "code",
   "execution_count": null,
   "metadata": {},
   "outputs": [],
   "source": [
    "# Print true theta values and pymc3 sampling summary\n",
    "#for i, trace in enumerate(traces):\n",
    "#    pm.plots.traceplot(trace)\n"
   ]
  }
 ],
 "metadata": {
  "kernelspec": {
   "display_name": "Python 3",
   "language": "python",
   "name": "python3"
  },
  "language_info": {
   "codemirror_mode": {
    "name": "ipython",
    "version": 3
   },
   "file_extension": ".py",
   "mimetype": "text/x-python",
   "name": "python",
   "nbconvert_exporter": "python",
   "pygments_lexer": "ipython3",
   "version": "3.6.11"
  }
 },
 "nbformat": 4,
 "nbformat_minor": 4
}
